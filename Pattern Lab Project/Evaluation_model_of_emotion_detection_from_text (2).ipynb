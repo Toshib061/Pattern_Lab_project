{
  "nbformat": 4,
  "nbformat_minor": 0,
  "metadata": {
    "colab": {
      "name": "Evaluation model of emotion detection from text.ipynb",
      "provenance": [],
      "collapsed_sections": []
    },
    "kernelspec": {
      "name": "python3",
      "display_name": "Python 3"
    },
    "language_info": {
      "name": "python"
    },
    "accelerator": "GPU"
  },
  "cells": [
    {
      "cell_type": "code",
      "metadata": {
        "id": "h_89z1v0orMy",
        "colab": {
          "base_uri": "https://localhost:8080/"
        },
        "outputId": "469902d5-9816-4b7f-a226-6b4fc7b96b84"
      },
      "source": [
        "from google.colab import drive;\n",
        "drive.mount(\"/content/gdrive\");"
      ],
      "execution_count": null,
      "outputs": [
        {
          "output_type": "stream",
          "text": [
            "Mounted at /content/gdrive\n"
          ],
          "name": "stdout"
        }
      ]
    },
    {
      "cell_type": "code",
      "metadata": {
        "id": "r-y6BfLlj0ij"
      },
      "source": [
        "from google.colab import files\n",
        "uploaded = files.upload()"
      ],
      "execution_count": null,
      "outputs": []
    },
    {
      "cell_type": "code",
      "metadata": {
        "id": "hgrSz4P-W2-J"
      },
      "source": [
        "ls"
      ],
      "execution_count": null,
      "outputs": []
    },
    {
      "cell_type": "markdown",
      "metadata": {
        "id": "kysuVVzX4U4k"
      },
      "source": [
        "## python libraries"
      ]
    },
    {
      "cell_type": "code",
      "metadata": {
        "id": "laJ19jYtt92R"
      },
      "source": [
        "import pandas as pd;\n",
        "import numpy as np;\n",
        "import matplotlib.pyplot as plt;\n",
        "import seaborn as sns;"
      ],
      "execution_count": null,
      "outputs": []
    },
    {
      "cell_type": "markdown",
      "metadata": {
        "id": "NgTXQN2s4aZ3"
      },
      "source": [
        "## load dataset"
      ]
    },
    {
      "cell_type": "code",
      "metadata": {
        "id": "e8LZqA03rNA0"
      },
      "source": [
        "\n",
        "df = pd.read_csv(\"text_emotions.csv\");\n",
        "print(df.head(5));"
      ],
      "execution_count": null,
      "outputs": []
    },
    {
      "cell_type": "markdown",
      "metadata": {
        "id": "v_6kPIpB4geB"
      },
      "source": [
        "## sentiment count plot"
      ]
    },
    {
      "cell_type": "code",
      "metadata": {
        "id": "I-TLd8qKrNip"
      },
      "source": [
        "col = 'sentiment'\n",
        "\n",
        "fig, (ax1, ax2)  = plt.subplots(nrows=1, ncols=2, figsize=(12,8))\n",
        "print(df[col].dropna().value_counts());\n",
        "print((np.array(list(df[col].dropna().value_counts()))/sum(list(df[col].dropna().value_counts()))));\n",
        "explode = list((np.array(list(df[col].dropna().value_counts()))/sum(list(df[col].dropna().value_counts())))[::-1])[:6]\n",
        "print(explode);\n",
        "labels = ['joy','sadness','anger','fear','love','surprise'];\n",
        "print(labels);\n",
        "sizes = df[col].value_counts()[:6]\n",
        "print(sizes)\n",
        "#ax1.pie(sizes, explode=explode, colors=bo, startangle=60, labels=labels,autopct='%1.0f%%', pctdistance=0.9)\n",
        "ax2.pie(sizes,  explode=explode, startangle=60, labels=labels,autopct='%.2f', pctdistance=0.9)\n",
        "ax2.add_artist(plt.Circle((0,0),0.6,fc='white'))\n",
        "sns.countplot(y =col, data = df, ax=ax1)\n",
        "ax1.set_title(\"Count of each emotion\")\n",
        "ax2.set_title(\"Percentage of each emotion\")\n",
        "plt.show()"
      ],
      "execution_count": null,
      "outputs": []
    },
    {
      "cell_type": "markdown",
      "metadata": {
        "id": "-u2syU0P4tpm"
      },
      "source": [
        "## replace sentiments"
      ]
    },
    {
      "cell_type": "code",
      "metadata": {
        "id": "7vF0xrRurN7S"
      },
      "source": [
        "df[\"sentiment\"].replace({\"love\": \"happiness\",\"fun\":\"happiness\",\"enthusiasm\":\"happiness\",\"relief\":\"neutral\",\"empty\":\"sadness\",\"boredom\":\"sadness\",\"hate\":\"anger\"}, inplace=True)"
      ],
      "execution_count": null,
      "outputs": []
    },
    {
      "cell_type": "markdown",
      "metadata": {
        "id": "m9lNLBJZ4z0G"
      },
      "source": [
        "## replaced sentiments count plot"
      ]
    },
    {
      "cell_type": "code",
      "metadata": {
        "id": "vxoaD_uRrOeq"
      },
      "source": [
        "col = 'sentiment'\n",
        "\n",
        "fig, (ax1, ax2)  = plt.subplots(nrows=1, ncols=2, figsize=(12,8))\n",
        "print(df[col].dropna().value_counts());\n",
        "print((np.array(list(df[col].dropna().value_counts()))/sum(list(df[col].dropna().value_counts()))));\n",
        "explode = list((np.array(list(df[col].dropna().value_counts()))/sum(list(df[col].dropna().value_counts())))[::-1])\n",
        "print(explode);\n",
        "labels = ['happiness','neutral','worry','sadness','surprise','anger'];\n",
        "print(labels);\n",
        "sizes = df[col].value_counts()\n",
        "print(sizes)\n",
        "#ax.pie(sizes, explode=explode, colors=bo, startangle=60, labels=labels,autopct='%1.0f%%', pctdistance=0.9)\n",
        "ax2.pie(sizes,  explode=explode, startangle=60, labels=labels,autopct='%.2f', pctdistance=0.9)\n",
        "ax2.add_artist(plt.Circle((0,0),0.6,fc='white'))\n",
        "sns.countplot(y =col, data = df, ax=ax1)\n",
        "ax1.set_title(\"Count of each emotion\")\n",
        "ax2.set_title(\"Percentage of each emotion\")\n",
        "plt.show()"
      ],
      "execution_count": null,
      "outputs": []
    },
    {
      "cell_type": "markdown",
      "metadata": {
        "id": "wUIySwoW47DN"
      },
      "source": [
        "## character and number of words in each content"
      ]
    },
    {
      "cell_type": "code",
      "metadata": {
        "id": "NWYKJ50pl1vi"
      },
      "source": [
        "df['char_length'] = df['content'].apply(lambda x : len(x))\n",
        "df['token_length'] = df['content'].apply(lambda x : len(x.split(\" \")))\n",
        "print(df);\n"
      ],
      "execution_count": null,
      "outputs": []
    },
    {
      "cell_type": "markdown",
      "metadata": {
        "id": "R6isCmKU5Dg4"
      },
      "source": [
        "## number of characters and token plot"
      ]
    },
    {
      "cell_type": "code",
      "metadata": {
        "id": "KM8FAefRR8W4"
      },
      "source": [
        "fig, (ax1, ax2)  = plt.subplots(nrows=1, ncols=2, figsize=(12,6))\n",
        "sns.histplot(df['char_length'], ax=ax1)\n",
        "sns.histplot(df['token_length'], ax=ax2)\n",
        "ax1.set_title('Number of characters in the tweet')\n",
        "ax2.set_title('Number of token(words) in the tweet')\n",
        "plt.show()"
      ],
      "execution_count": null,
      "outputs": []
    },
    {
      "cell_type": "markdown",
      "metadata": {
        "id": "g_QP3jzsXUsP"
      },
      "source": [
        "## Correctly generate plurals, singular nouns, ordinals, indefinite articles; convert numbers to words.\n"
      ]
    },
    {
      "cell_type": "code",
      "metadata": {
        "id": "kREeebPkR9Ew"
      },
      "source": [
        "!pip install inflect"
      ],
      "execution_count": null,
      "outputs": []
    },
    {
      "cell_type": "markdown",
      "metadata": {
        "id": "TOHABvP9XgBJ"
      },
      "source": [
        "## expanding english words\n"
      ]
    },
    {
      "cell_type": "code",
      "metadata": {
        "id": "NQEES182R-ha"
      },
      "source": [
        "!pip install contractions"
      ],
      "execution_count": null,
      "outputs": []
    },
    {
      "cell_type": "markdown",
      "metadata": {
        "id": "tZ5YSzCuXvUK"
      },
      "source": [
        "## scraping after a long time "
      ]
    },
    {
      "cell_type": "code",
      "metadata": {
        "id": "DoEwV55HR-Kq"
      },
      "source": [
        "!pip install bs4"
      ],
      "execution_count": null,
      "outputs": []
    },
    {
      "cell_type": "markdown",
      "metadata": {
        "id": "inGLy9vuYSq4"
      },
      "source": [
        "##  Data preparation and text-preprocessing libraries\n"
      ]
    },
    {
      "cell_type": "code",
      "metadata": {
        "id": "Wtud-cy0R98_"
      },
      "source": [
        "\n",
        "from sklearn.preprocessing import LabelEncoder;\n",
        "from sklearn.model_selection import train_test_split;\n",
        "import nltk;\n",
        "import inflect;\n",
        "import contractions;\n",
        "from bs4 import BeautifulSoup;\n",
        "import re, string, unicodedata;\n",
        "from nltk import word_tokenize, sent_tokenize;\n",
        "from nltk.corpus import stopwords;\n",
        "from nltk.stem import LancasterStemmer, WordNetLemmatizer;\n",
        "nltk.download('punkt');\n",
        "nltk.download('stopwords');\n",
        "nltk.download('wordnet');"
      ],
      "execution_count": null,
      "outputs": []
    },
    {
      "cell_type": "markdown",
      "metadata": {
        "id": "-TVk3G9IYN42"
      },
      "source": [
        "## text preprocessing"
      ]
    },
    {
      "cell_type": "code",
      "metadata": {
        "id": "KnbpzmZHYDwh"
      },
      "source": [
        "\n",
        "\n",
        "def text_preprocessing_platform(df, text_col, remove_stopwords=True):\n",
        "    \n",
        "    ## Define functions for individual steps\n",
        "    # First function is used to denoise text\n",
        "    def denoise_text(text):\n",
        "        # Strip html if any. For ex. removing <html>, <p> tags\n",
        "        soup = BeautifulSoup(text, \"html.parser\");\n",
        "        text = soup.get_text();\n",
        "        # Replace contractions in the text. For ex. didn't -> did not\n",
        "        text = contractions.fix(text);\n",
        "        return text;\n",
        "    \n",
        "    ## Next step is text-normalization\n",
        "    \n",
        "    # Text normalization includes many steps.\n",
        "    \n",
        "    # Each function below serves a step.\n",
        "    \n",
        "    \n",
        "    def remove_non_ascii(words):\n",
        "        \"\"\"Remove non-ASCII characters from list of tokenized words\"\"\"\n",
        "        new_words = [];\n",
        "        for word in words:\n",
        "            new_word = unicodedata.normalize('NFKD', word).encode('ascii', 'ignore').decode('utf-8', 'ignore');\n",
        "            new_words.append(new_word);\n",
        "        return new_words;\n",
        "    \n",
        "    \n",
        "    def to_lowercase(words):\n",
        "        \"\"\"Convert all characters to lowercase from list of tokenized words\"\"\"\n",
        "        new_words = [];\n",
        "        for word in words:\n",
        "            new_word = word.lower();\n",
        "            new_words.append(new_word);\n",
        "        return new_words;\n",
        "    \n",
        "    \n",
        "    def remove_punctuation(words):\n",
        "        \"\"\"Remove punctuation from list of tokenized words\"\"\"\n",
        "        new_words = [];\n",
        "        for word in words:\n",
        "            new_word = re.sub(r'[^\\w\\s]', '', word);\n",
        "            if new_word != '':\n",
        "                new_words.append(new_word);\n",
        "        return new_words;\n",
        "    \n",
        "    \n",
        "    def replace_numbers(words):\n",
        "        \"\"\"Replace all interger occurrences in list of tokenized words with textual representation\"\"\"\n",
        "        p = inflect.engine();\n",
        "        new_words = [];\n",
        "        for word in words:\n",
        "            if word.isdigit():\n",
        "                new_word = p.number_to_words(word);\n",
        "                new_words.append(new_word);\n",
        "            else:\n",
        "                new_words.append(word);\n",
        "        return new_words;\n",
        "    \n",
        "    \n",
        "    def remove_stopwords(words):\n",
        "        \"\"\"Remove stop words from list of tokenized words\"\"\"\n",
        "        new_words = [];\n",
        "        for word in words:\n",
        "            if word not in stopwords.words('english'):\n",
        "                new_words.append(word);\n",
        "        return new_words;\n",
        "    \n",
        "    \n",
        "    def stem_words(words):\n",
        "        \"\"\"Stem words in list of tokenized words\"\"\"\n",
        "        stemmer = LancasterStemmer();\n",
        "        stems = [];\n",
        "        for word in words:\n",
        "            stem = stemmer.stem(word);\n",
        "            stems.append(stem);\n",
        "        return stems;\n",
        "    \n",
        "    \n",
        "    def lemmatize_verbs(words):\n",
        "        \"\"\"Lemmatize verbs in list of tokenized words\"\"\"\n",
        "        lemmatizer = WordNetLemmatizer();\n",
        "        lemmas = [];\n",
        "        for word in words:\n",
        "            lemma = lemmatizer.lemmatize(word, pos='v');\n",
        "            lemmas.append(lemma);\n",
        "        return lemmas;\n",
        "    \n",
        "    \n",
        "    ### A wrap-up function for normalization\n",
        "    def normalize_text(words, remove_stopwords):\n",
        "        words = remove_non_ascii(words);\n",
        "        words = to_lowercase(words);\n",
        "        words = remove_punctuation(words);\n",
        "        words = replace_numbers(words);\n",
        "        if remove_stopwords:\n",
        "            words = remove_stopwords(words);\n",
        "        words = stem_words(words)\n",
        "        # words = lemmatize_verbs(words);\n",
        "        return words;\n",
        "    \n",
        "    # All above functions work on word tokens we need a tokenizer\n",
        "    \n",
        "    # Tokenize tweet into words\n",
        "    def tokenize(text):\n",
        "        return nltk.word_tokenize(text);\n",
        "    \n",
        "    \n",
        "    # A overall wrap-up function\n",
        "    def text_prepare(text):\n",
        "        text = denoise_text(text);\n",
        "        text = ' '.join([x for x in normalize_text(tokenize(text), remove_stopwords)]);\n",
        "        return text;\n",
        "    \n",
        "    # run every-step\n",
        "    df[text_col] = [text_prepare(x) for x in df[text_col]];\n",
        "    \n",
        "    \n",
        "    # return processed df\n",
        "    return df;"
      ],
      "execution_count": null,
      "outputs": []
    },
    {
      "cell_type": "markdown",
      "metadata": {
        "id": "7cVubxDH5MEp"
      },
      "source": [
        "## before and after text preprocessings"
      ]
    },
    {
      "cell_type": "code",
      "metadata": {
        "id": "mp0aFPCNYD4f",
        "colab": {
          "base_uri": "https://localhost:8080/",
          "height": 812
        },
        "outputId": "7db92f38-a818-4243-8e08-8b8197e9daf1"
      },
      "source": [
        "print(\"Before Text Preprocessing\")\n",
        "display(df.head()[['content']])\n",
        "print(df.shape);\n",
        "print(df.loc[[340]])\n",
        "sns.heatmap(df.isnull(), cmap='viridis')\n",
        "plt.show()\n",
        "processed_df = text_preprocessing_platform(df, 'content', remove_stopwords=False)\n",
        "print(\"After Text Preprocessing\")\n",
        "display(processed_df.head()[['content']])\n",
        "print(processed_df.shape);\n",
        "print(processed_df.loc[[340]]);\n",
        "\n",
        "processed_df.to_csv('After_cleaning.csv');"
      ],
      "execution_count": null,
      "outputs": [
        {
          "output_type": "stream",
          "text": [
            "Before Text Preprocessing\n"
          ],
          "name": "stdout"
        },
        {
          "output_type": "display_data",
          "data": {
            "text/html": [
              "<div>\n",
              "<style scoped>\n",
              "    .dataframe tbody tr th:only-of-type {\n",
              "        vertical-align: middle;\n",
              "    }\n",
              "\n",
              "    .dataframe tbody tr th {\n",
              "        vertical-align: top;\n",
              "    }\n",
              "\n",
              "    .dataframe thead th {\n",
              "        text-align: right;\n",
              "    }\n",
              "</style>\n",
              "<table border=\"1\" class=\"dataframe\">\n",
              "  <thead>\n",
              "    <tr style=\"text-align: right;\">\n",
              "      <th></th>\n",
              "      <th>content</th>\n",
              "    </tr>\n",
              "  </thead>\n",
              "  <tbody>\n",
              "    <tr>\n",
              "      <th>0</th>\n",
              "      <td>i didnt feel humiliated</td>\n",
              "    </tr>\n",
              "    <tr>\n",
              "      <th>1</th>\n",
              "      <td>i can go from feeling so hopeless to so damned...</td>\n",
              "    </tr>\n",
              "    <tr>\n",
              "      <th>2</th>\n",
              "      <td>im grabbing a minute to post i feel greedy wrong</td>\n",
              "    </tr>\n",
              "    <tr>\n",
              "      <th>3</th>\n",
              "      <td>i am ever feeling nostalgic about the fireplac...</td>\n",
              "    </tr>\n",
              "    <tr>\n",
              "      <th>4</th>\n",
              "      <td>i am feeling grouchy</td>\n",
              "    </tr>\n",
              "  </tbody>\n",
              "</table>\n",
              "</div>"
            ],
            "text/plain": [
              "                                             content\n",
              "0                            i didnt feel humiliated\n",
              "1  i can go from feeling so hopeless to so damned...\n",
              "2   im grabbing a minute to post i feel greedy wrong\n",
              "3  i am ever feeling nostalgic about the fireplac...\n",
              "4                               i am feeling grouchy"
            ]
          },
          "metadata": {}
        },
        {
          "output_type": "stream",
          "text": [
            "(18000, 4)\n",
            "                                               content  ... token_length\n",
            "340  i am beginning to feel that theres a good chan...  ...           13\n",
            "\n",
            "[1 rows x 4 columns]\n"
          ],
          "name": "stdout"
        },
        {
          "output_type": "display_data",
          "data": {
            "image/png": "[encoded data removed]",
            "text/plain": [
              "<Figure size 432x288 with 2 Axes>"
            ]
          },
          "metadata": {
            "needs_background": "light"
          }
        },
        {
          "output_type": "stream",
          "text": [
            "After Text Preprocessing\n"
          ],
          "name": "stdout"
        },
        {
          "output_type": "display_data",
          "data": {
            "text/html": [
              "<div>\n",
              "<style scoped>\n",
              "    .dataframe tbody tr th:only-of-type {\n",
              "        vertical-align: middle;\n",
              "    }\n",
              "\n",
              "    .dataframe tbody tr th {\n",
              "        vertical-align: top;\n",
              "    }\n",
              "\n",
              "    .dataframe thead th {\n",
              "        text-align: right;\n",
              "    }\n",
              "</style>\n",
              "<table border=\"1\" class=\"dataframe\">\n",
              "  <thead>\n",
              "    <tr style=\"text-align: right;\">\n",
              "      <th></th>\n",
              "      <th>content</th>\n",
              "    </tr>\n",
              "  </thead>\n",
              "  <tbody>\n",
              "    <tr>\n",
              "      <th>0</th>\n",
              "      <td>feel humy</td>\n",
              "    </tr>\n",
              "    <tr>\n",
              "      <th>1</th>\n",
              "      <td>go feel hopeless damn hop around someon car awak</td>\n",
              "    </tr>\n",
              "    <tr>\n",
              "      <th>2</th>\n",
              "      <td>grab minut post feel greedy wrong</td>\n",
              "    </tr>\n",
              "    <tr>\n",
              "      <th>3</th>\n",
              "      <td>ev feel nostalg fireplac know stil property</td>\n",
              "    </tr>\n",
              "    <tr>\n",
              "      <th>4</th>\n",
              "      <td>feel grouchy</td>\n",
              "    </tr>\n",
              "  </tbody>\n",
              "</table>\n",
              "</div>"
            ],
            "text/plain": [
              "                                            content\n",
              "0                                         feel humy\n",
              "1  go feel hopeless damn hop around someon car awak\n",
              "2                 grab minut post feel greedy wrong\n",
              "3       ev feel nostalg fireplac know stil property\n",
              "4                                      feel grouchy"
            ]
          },
          "metadata": {}
        },
        {
          "output_type": "stream",
          "text": [
            "(18000, 4)\n",
            "                              content sentiment  char_length  token_length\n",
            "340  begin feel good chant might pass       joy           61            13\n"
          ],
          "name": "stdout"
        }
      ]
    },
    {
      "cell_type": "markdown",
      "metadata": {
        "id": "jsq1X6rt5RQO"
      },
      "source": [
        "## model and evaluation metrices libraries"
      ]
    },
    {
      "cell_type": "code",
      "metadata": {
        "id": "3varqFMgYEC2"
      },
      "source": [
        "from sklearn.feature_extraction.text import TfidfVectorizer;\n",
        "from sklearn.model_selection import train_test_split;\n",
        "from sklearn.tree import DecisionTreeClassifier;\n",
        "from sklearn.metrics import classification_report;\n",
        "from sklearn.metrics import confusion_matrix, accuracy_score, roc_auc_score, roc_curve;"
      ],
      "execution_count": null,
      "outputs": []
    },
    {
      "cell_type": "markdown",
      "metadata": {
        "id": "_jIBFqVo5ZxR"
      },
      "source": [
        "## variable declaration"
      ]
    },
    {
      "cell_type": "code",
      "metadata": {
        "id": "Jdj0X-YXmp-z"
      },
      "source": [
        "target = 'sentiment'"
      ],
      "execution_count": null,
      "outputs": []
    },
    {
      "cell_type": "markdown",
      "metadata": {
        "id": "ogRi_vhh5dIz"
      },
      "source": [
        "## Tf-Idf of tweet content"
      ]
    },
    {
      "cell_type": "code",
      "metadata": {
        "id": "1nNgwk67YEJ1",
        "colab": {
          "base_uri": "https://localhost:8080/"
        },
        "outputId": "4c18ed44-e98a-4643-a35f-033eb8dd3f66"
      },
      "source": [
        "tf = TfidfVectorizer();\n",
        "print(tf.fit_transform(processed_df['content'])[0])\n",
        "text_tf= tf.fit_transform(processed_df['content']);\n",
        "# feature extract\n",
        "feature_names = tf.get_feature_names()\n",
        "print(feature_names);\n",
        "doc = 0\n",
        "# for first doc\n",
        "feature_index =text_tf[doc,:].nonzero()[1]\n",
        "tfidf_scores = zip(feature_index, [text_tf[doc, x] for x in feature_index])\n",
        "print(tfidf_scores);\n",
        "# tfidf score for first doc with featue , tfidf value\n",
        "for w, s in [(feature_names[i], s) for (i, s) in tfidf_scores]:\n",
        "  print (w, s);"
      ],
      "execution_count": null,
      "outputs": [
        {
          "output_type": "stream",
          "text": [
            "  (0, 3790)\t0.9887708368941819\n",
            "  (0, 2831)\t0.14943972734041913\n",
            "['aa', 'aaaaaaand', 'aaaaand', 'aaaah', 'aaaand', 'aac', 'aahhh', 'aaron', 'ab', 'abandon', 'abb', 'abbigail', 'abc', 'abdom', 'abdomin', 'abduc', 'abelard', 'abhor', 'abid', 'abit', 'abl', 'ablo', 'abnorm', 'aboard', 'abomin', 'abort', 'abou', 'abound', 'abraham', 'abroad', 'abrupt', 'abs', 'absolout', 'absolv', 'absorb', 'abstain', 'abstin', 'abstract', 'absurd', 'abt', 'abud', 'abund', 'abus', 'abyss', 'ac', 'academ', 'academy', 'acaus', 'acc', 'acceiv', 'accel', 'accentu', 'access', 'accid', 'acclim', 'acco', 'accommod', 'accompany', 'accompl', 'accord', 'account', 'accru', 'acct', 'accum', 'accus', 'accustom', 'ach', 'acheiv', 'achiev', 'achy', 'acim', 'ack', 'acknowledg', 'acn', 'aconfid', 'acquaint', 'acquir', 'acronym', 'across', 'act', 'actau', 'actress', 'acu', 'acum', 'acut', 'ad', 'adam', 'adapt', 'addict', 'addison', 'addit', 'addl', 'address', 'adequ', 'adf', 'adh', 'adject', 'adjust', 'admin', 'admir', 'admit', 'adn', 'adolesc', 'adom', 'adopt', 'adrastei', 'adrenalin', 'adress', 'adrift', 'adult', 'adv', 'advers', 'advert', 'advil', 'advoc', 'aesthet', 'af', 'afaerytaleinmakebeliev', 'affair', 'affecc', 'affect', 'affend', 'affirm', 'afford', 'affy', 'afgh', 'afield', 'afp', 'afr', 'afrad', 'afraid', 'aftereffect', 'afterma', 'afternoon', 'afterward', 'ag', 'agend', 'aggrav', 'aggress', 'agil', 'agit', 'agn', 'agnost', 'ago', 'agon', 'agony', 'agr', 'agree', 'agtalk', 'agy', 'ah', 'ahah', 'ahahahah', 'ahead', 'ahem', 'ahhh', 'ahkm', 'aid', 'aiiiiighhhht', 'ail', 'aim', 'aimless', 'air', 'airb', 'airbrush', 'airc', 'airlin', 'airpl', 'airport', 'airrit', 'airtim', 'aiw', 'aj', 'ak', 'akin', 'akron', 'akshay', 'aku', 'akward', 'al', 'alabam', 'alarm', 'alask', 'alb', 'albeit', 'albino', 'album', 'albuquerqu', 'alcest', 'alcohol', 'alec', 'alert', 'alex', 'alexand', 'alfr', 'algebr', 'alhamdulillah', 'alib', 'alight', 'align', 'alignt', 'alittl', 'all', 'allah', 'alleg', 'allerg', 'allergy', 'alley', 'alloc', 'allow', 'allowfullscreen', 'allthingsbuck', 'allud', 'almond', 'almost', 'aloft', 'alon', 'along', 'alongsid', 'aloof', 'alot', 'alott', 'alphabet', 'already', 'alright', 'also', 'alsway', 'alt', 'altern', 'although', 'altitud', 'altogeth', 'alton', 'alumin', 'alumnin', 'alv', 'alway', 'aly', 'am', 'amalgam', 'amaz', 'amazon', 'amb', 'ambassad', 'ambit', 'amblesid', 'ambush', 'amby', 'amd', 'americ', 'america', 'american', 'amish', 'amiss', 'amit', 'amkr', 'amm', 'amo', 'among', 'amongst', 'amorph', 'amount', 'amp', 'amparo', 'ampatu', 'ampl', 'amsterdam', 'amud', 'amus', 'amvassago', 'amy', 'an', 'anaesthet', 'analog', 'analys', 'anans', 'anatom', 'ancest', 'anch', 'anct', 'and', 'andangry', 'anderson', 'andintrupt', 'andov', 'andr', 'andre', 'andrea', 'andrew', 'andthenwear', 'andy', 'anesthet', 'ang', 'angel', 'angl', 'angry', 'angst', 'angsty', 'angy', 'anim', 'animesh', 'animos', 'anipik', 'ankl', 'anklet', 'ann', 'annivers', 'annot', 'annount', 'annoy', 'annul', 'anny', 'ano', 'anonym', 'anotehr', 'anoth', 'ans', 'answ', 'ant', 'antagon', 'anthem', 'antholog', 'anticip', 'antidepress', 'antidot', 'antipast', 'antisoc', 'antm', 'antoinet', 'antonio', 'antsy', 'anxy', 'anybody', 'anyhow', 'anym', 'anyon', 'anyth', 'anyway', 'anywh', 'ao', 'aol', 'aout', 'ap', 'apart', 'apathet', 'apathy', 'apaw', 'apay', 'apc', 'apend', 'apgujeong', 'apocalyps', 'apolog', 'apologet', 'apostroph', 'apothec', 'app', 'appal', 'appear', 'appeas', 'appetit', 'appl', 'appleb', 'apply', 'appoint', 'appr', 'apprecy', 'apprehend', 'appricy', 'approach', 'appropry', 'approv', 'approx', 'approxim', 'appt', 'aprax', 'april', 'apron', 'apt', 'ar', 'arab', 'arc', 'arcad', 'arch', 'archdioces', 'archeolog', 'architect', 'ardm', 'are', 'area', 'aren', 'areth', 'argu', 'ariel', 'arlovsk', 'arm', 'arman', 'armpit', 'army', 'arom', 'aros', 'around', 'arrang', 'array', 'arrog', 'arrow', 'ars', 'art', 'artefact', 'artic', 'artwork', 'arty', 'arugh', 'arun', 'arvo', 'ary', 'aryiku', 'as', 'asam', 'asasoulawak', 'asbesto', 'ascend', 'ascy', 'asd', 'ash', 'asham', 'ashley', 'ashlot', 'ashraf', 'ashton', 'ashtray', 'asid', 'ask', 'asleep', 'asm', 'aspect', 'aspir', 'aspy', 'ass', 'assassin', 'assault', 'assembl', 'assert', 'assess', 'asset', 'asshol', 'assign', 'assimil', 'assist', 'assocy', 'assu', 'assum', 'asthm', 'aston', 'astray', 'asyl', 'at', 'atar', 'atel', 'ath', 'athf', 'athlet', 'atiqah', 'atl', 'atlant', 'atleast', 'atlephob', 'atletico', 'atm', 'atmosph', 'atom', 'atop', 'atoshealthc', 'atrocy', 'atroph', 'attach', 'attack', 'attain', 'attempt', 'attend', 'attic', 'attir', 'attitud', 'attorney', 'attract', 'attribut', 'au', 'aubrey', 'auct', 'audac', 'audiobook', 'audr', 'audrey', 'audy', 'auggy', 'august', 'aunt', 'aunty', 'aussy', 'aust', 'austin', 'austral', 'aut', 'auth', 'authorit', 'auto', 'autobiograph', 'autom', 'autonom', 'autumn', 'av', 'avail', 'avalanch', 'avenu', 'avers', 'avert', 'avery', 'avoid', 'avon', 'avril', 'avta', 'aw', 'await', 'awak', 'award', 'awash', 'away', 'awesom', 'awhil', 'awkward', 'awok', 'ax', 'axel', 'axill', 'ay', 'ayum', 'az', 'azeale', 'ba', 'baach', 'bab', 'babsbrisb', 'baby', 'babychas', 'babydol', 'babys', 'babysit', 'bachel', 'bacheloret', 'back', 'backach', 'backdrop', 'backfir', 'background', 'backlog', 'backpack', 'backst', 'backstab', 'backward', 'backyard', 'bacus', 'bad', 'badass', 'badg', 'badm', 'badminton', 'baffl', 'baffroom', 'bag', 'bagel', 'baggy', 'bah', 'baht', 'bai', 'bail', 'bailey', 'bak', 'bal', 'bald', 'balk', 'ballet', 'balloon', 'ballroom', 'balmy', 'balsam', 'balt', 'baltim', 'bam', 'ban', 'banan', 'band', 'bandaid', 'bandhu', 'bandwagon', 'bang', 'banjo', 'bank', 'bant', 'bapt', 'bar', 'barbecu', 'barbequ', 'barby', 'barc', 'barcomb', 'bard', 'barefoot', 'baremin', 'bargain', 'barist', 'bark', 'barn', 'barney', 'barnog', 'baromet', 'baroqu', 'barry', 'bartend', 'bas', 'basebal', 'bash', 'bask', 'basketbal', 'bass', 'bassanio', 'bastard', 'bat', 'batch', 'batchm', 'bath', 'bathroom', 'batm', 'baton', 'battery', 'battl', 'bau', 'bay', 'bayou', 'bb', 'bbc', 'bbq', 'bbw', 'bc', 'bcoz', 'beach', 'beachy', 'beacus', 'bead', 'beagl', 'beak', 'beam', 'beanb', 'bear', 'beast', 'beat', 'beatl', 'beaubronz', 'beauty', 'becam', 'becasu', 'becom', 'becoz', 'becsus', 'becuz', 'bed', 'bedriac', 'bedroom', 'bedsid', 'bee', 'beef', 'beefy', 'beer', 'beet', 'befal', 'befc', 'befo', 'beforehand', 'befriend', 'befuddl', 'beg', 'begin', 'begleit', 'begun', 'behalf', 'behav', 'behavio', 'behavy', 'behind', 'behold', 'beid', 'bein', 'being', 'beirut', 'bel', 'believ', 'belittl', 'bellingham', 'bellm', 'belmont', 'belong', 'belov', 'belt', 'belug', 'bemus', 'ben', 'benadryl', 'benc', 'bench', 'benea', 'benedict', 'benedictin', 'benef', 'benefit', 'benevol', 'beng', 'benign', 'benjamin', 'benno', 'benny', 'benson', 'bent', 'benzem', 'ber', 'bereft', 'berk', 'bernard', 'bernd', 'berny', 'berry', 'bertram', 'bertuk', 'besid', 'best', 'bestfriend', 'bestsel', 'bet', 'beth', 'betray', 'betty', 'bev', 'bew', 'bewertung', 'bewild', 'beyond', 'beyont', 'bezo', 'bf', 'bfd', 'bff', 'bfs', 'bgr', 'bhubanesw', 'bi', 'bia', 'bian', 'bias', 'bibl', 'bibliograph', 'bicep', 'bicyc', 'bid', 'big', 'biggest', 'biggy', 'bigotry', 'bik', 'bikin', 'bil', 'billiard', 'bin', 'bind', 'bing', 'bio', 'biochem', 'biofuel', 'biolog', 'biopsy', 'biost', 'biow', 'bipol', 'bir', 'bird', 'birth', 'birthday', 'birthmom', 'biscuit', 'bish', 'bishop', 'bit', 'bitch', 'bitchy', 'bitstream', 'bitsy', 'bittersweet', 'biz', 'bizar', 'bla', 'blab', 'black', 'blackburn', 'blackmail', 'blackpool', 'blackw', 'blad', 'blah', 'blair', 'blak', 'blam', 'blanch', 'blank', 'blanket', 'blar', 'blast', 'blat', 'blaz', 'bleacherreport', 'bleak', 'blee', 'bleh', 'blend', 'bless', 'bleu', 'blew', 'blind', 'blink', 'blip', 'bliss', 'blist', 'blo', 'bloc', 'block', 'blog', 'blogland', 'blogosph', 'blogovers', 'blogpost', 'blogspot', 'blogstalk', 'blok', 'blond', 'blood', 'bloodsh', 'bloody', 'bloom', 'blossom', 'blous', 'blow', 'blowjob', 'blown', 'blowout', 'blu', 'blub', 'bludgeon', 'blueberry', 'blund', 'blunt', 'blur', 'blurry', 'blurt', 'blush', 'bm', 'board', 'boardwalk', 'boast', 'boat', 'bob', 'bobby', 'bobo', 'bod', 'bodeg', 'body', 'bodyguard', 'bodypump', 'bodywork', 'boe', 'boehn', 'bog', 'bogart', 'bohem', 'boil', 'boist', 'bold', 'bolt', 'bomb', 'bombard', 'bombsit', 'bommy', 'bon', 'bond', 'bondmus', 'bonham', 'bonk', 'bontoc', 'boo', 'boob', 'book', 'bookmark', 'bookst', 'bookworm', 'boom', 'boost', 'boot', 'bop', 'bor', 'bord', 'boredom', 'boredwithquin', 'born', 'borrow', 'bosch', 'boss', 'boston', 'bot', 'botany', 'both', 'bothersom', 'bottl', 'bottom', 'boudoir', 'bough', 'bought', 'bould', 'bound', 'boundless', 'bount', 'bouquet', 'bourbon', 'bout', 'bow', 'bowel', 'bowl', 'bowy', 'box', 'boy', 'boyfriend', 'bqff', 'br', 'bra', 'bracelet', 'brach', 'brad', 'bradbury', 'brag', 'braid', 'brain', 'brainless', 'brainstorm', 'brainwash', 'brak', 'branch', 'brand', 'brando', 'brandy', 'brass', 'brat', 'brav', 'braz', 'brazil', 'brd', 'brds', 'brea', 'bread', 'break', 'breakdown', 'breakfast', 'breakthrough', 'breakup', 'breast', 'breastfee', 'breath', 'breathless', 'bree', 'breez', 'brendon', 'brethr', 'brew', 'bri', 'brick', 'brid', 'bridesmaid', 'bridezilla', 'bridg', 'bridget', 'bridgew', 'brief', 'brig', 'bright', 'bril', 'brim', 'bring', 'brink', 'brit', 'britain', 'britney', 'briton', 'brittney', 'bro', 'broad', 'broadcast', 'brok', 'brokeup', 'bronz', 'brooch', 'brood', 'brook', 'brooklyn', 'broom', 'broomfield', 'broth', 'brought', 'brow', 'brown', 'brows', 'bru', 'bruc', 'brunch', 'bruno', 'brunswick', 'brush', 'brut', 'bry', 'bryangregorylew', 'bs', 'bsc', 'bt', 'btw', 'bu', 'bubbl', 'buck', 'bucket', 'bud', 'buddh', 'buddy', 'budget', 'buff', 'buffalo', 'buffy', 'bug', 'build', 'built', 'bul', 'bulk', 'bullet', 'bulletin', 'bullshit', 'bum', 'bumb', 'bummin', 'bump', 'bun', 'bunch', 'bundl', 'bungalow', 'bungl', 'bunk', 'bunny', 'bunnysuit', 'buoy', 'burd', 'bureaucr', 'burg', 'burgeon', 'burgo', 'burky', 'burlesqu', 'burm', 'burn', 'burnout', 'burnt', 'burrow', 'burst', 'bury', 'bus', 'bush', 'bust', 'busy', 'but', 'butchery', 'butterf', 'buttermilk', 'button', 'buttt', 'buuuuuut', 'buy', 'buzz', 'buzzy', 'bye', 'byron', 'byt', 'cab', 'cabernet', 'cabin', 'cad', 'caf', 'cafeter', 'caffein', 'cag', 'cagey', 'cairn', 'cajol', 'cak', 'cal', 'calc', 'caleb', 'caledon', 'calend', 'calf', 'calg', 'californ', 'call', 'calm', 'calv', 'calvaryccv', 'calvin', 'cam', 'cambod', 'cambr', 'camer', 'camill', 'cammy', 'camp', 'campaign', 'camwh', 'can', 'canad', 'canada', 'canagl', 'cancel', 'candl', 'candy', 'candyland', 'cano', 'canon', 'cant', 'cantank', 'canteen', 'cantin', 'canva', 'canvas', 'cap', 'capac', 'capit', 'capt', 'captain', 'car', 'caramel', 'carapac', 'carb', 'carbohydr', 'carby', 'carcass', 'carcenog', 'card', 'cardboard', 'cardiff', 'cardio', 'cardiovascul', 'careen', 'careess', 'carefr', 'careg', 'careless', 'caress', 'caretak', 'carey', 'carib', 'carin', 'carl', 'carla', 'carn', 'carniol', 'carol', 'carolin', 'carp', 'carpet', 'carrot', 'carrry', 'carry', 'carryout', 'cars', 'carson', 'cart', 'cartoon', 'cartwheel', 'cas', 'casablanc', 'cascad', 'cash', 'cashm', 'cashy', 'cassandr', 'cassav', 'casserol', 'cast', 'castanet', 'castiel', 'castl', 'cat', 'cataclysm', 'catalyst', 'catapult', 'catch', 'catchy', 'categ', 'caterpill', 'cath', 'cathart', 'cathedr', 'cathol', 'cathy', 'cats', 'caught', 'caulfield', 'caus', 'caust', 'caut', 'cauty', 'cav', 'cava', 'cavem', 'caw', 'cbc', 'cbs', 'ccs', 'ccw', 'cd', 'cdm', 'cdn', 'ceas', 'ced', 'ceil', 'cel', 'celebr', 'celex', 'cello', 'cellphon', 'cellul', 'cellulit', 'celt', 'cempak', 'cen', 'cens', 'cent', 'century', 'ceo', 'cer', 'ceram', 'cert', 'certain', 'certainty', 'cesspool', 'ceter', 'cgi', 'cha', 'chabad', 'chadston', 'chain', 'chair', 'chaje', 'chakotay', 'chal', 'chalk', 'challeng', 'chamb', 'champ', 'champagn', 'chanel', 'chang', 'changel', 'channel', 'chant', 'chao', 'chaot', 'chaperon', 'chapt', 'char', 'charact', 'charad', 'charg', 'charit', 'charm', 'chart', 'chas', 'chasm', 'chast', 'chat', 'che', 'cheap', 'cheaply', 'chech', 'check', 'checkl', 'checkup', 'cheek', 'cheerful', 'cheerlead', 'chees', 'cheesecak', 'cheesy', 'chef', 'chelmsford', 'chem', 'chemo', 'chemotherapy', 'chendol', 'cher', 'cherry', 'chesley', 'chest', 'chew', 'chewy', 'chex', 'chi', 'chiangma', 'chic', 'chicago', 'chick', 'chicky', 'chief', 'chiharu', 'chil', 'child', 'childlik', 'childr', 'chill', 'chillax', 'chin', 'china', 'chinatown', 'chines', 'chinesepod', 'ching', 'chink', 'chip', 'chipmunk', 'chiuv', 'chivalry', 'cho', 'choc', 'choccy', 'chocol', 'choir', 'chok', 'choos', 'chop', 'chor', 'chos', 'chris', 'chriss', 'christ', 'christchurch', 'christian', 'christianity', 'christians', 'christine', 'christmas', 'christmassy', 'christmastime', 'chromosomes', 'chronically', 'chronicles', 'chub', 'chubby', 'chuckl', 'chuff', 'chug', 'chukey', 'chunk', 'chunky', 'church', 'churchil', 'churchoffuck', 'churchy', 'churn', 'cia', 'cig', 'cigaret', 'cinderall', 'cindy', 'cinem', 'cineplex', 'cineworld', 'cinnamon', 'circ', 'circuit', 'circumst', 'cit', 'city', 'civil', 'claim', 'clair', 'clam', 'clammy', 'clamo', 'clan', 'clap', 'clar', 'claret', 'clarinet', 'clark', 'clash', 'clasheen', 'class', 'classm', 'classroom', 'classwork', 'classy', 'claud', 'claustrophob', 'claw', 'clay', 'cle', 'cleans', 'clear', 'clearbo', 'clench', 'clerk', 'clermont', 'clev', 'cli', 'clich', 'click', 'cliff', 'clim', 'climax', 'climb', 'clin', 'cling', 'clingy', 'clint', 'clip', 'cliqu', 'cliquey', 'clit', 'clo', 'clock', 'clod', 'cloest', 'clog', 'clos', 'closest', 'closet', 'clot', 'cloth', 'cloud', 'cloudy', 'clov', 'clown', 'clozapin', 'clu', 'club', 'clueless', 'clump', 'clumsy', 'clung', 'clust', 'clut', 'clutch', 'cm', 'cnn', 'co', 'coach', 'coast', 'coat', 'coax', 'cobweb', 'coc', 'cock', 'cocktail', 'cocky', 'coco', 'coconut', 'cod', 'coe', 'coelho', 'coerc', 'coff', 'coffin', 'cog', 'cogn', 'cognit', 'coh', 'cohee', 'coher', 'cohort', 'coil', 'coin', 'coincid', 'coinfect', 'cok', 'col', 'colbert', 'colby', 'cold', 'coldplay', 'colds', 'coldston', 'colin', 'coll', 'collab', 'collapes', 'collaps', 'colleagu', 'collect', 'colleg', 'collid', 'collin', 'colo', 'cologn', 'colomb', 'colomn', 'colon', 'colorado', 'columb', 'column', 'com', 'comatos', 'comb', 'combin', 'combo', 'comeback', 'comedy', 'comf', 'comfid', 'comfort', 'comfy', 'command', 'commem', 'commerc', 'commit', 'commod', 'common', 'commonplac', 'commun', 'commut', 'commy', 'comp', 'compagnon', 'company', 'comparison', 'compart', 'compas', 'compass', 'compat', 'compel', 'compens', 'compet', 'competit', 'compil', 'compl', 'complac', 'complain', 'complaint', 'complainy', 'complet', 'complex', 'comply', 'compon', 'composit', 'compost', 'compound', 'comprehend', 'compress', 'comprom', 'compuls', 'compunct', 'comput', 'con', 'conceiv', 'concequ', 'concern', 'concert', 'concid', 'conciev', 'conclud', 'concoct', 'concret', 'concur', 'condemn', 'condescend', 'condit', 'condon', 'conduc', 'condy', 'conect', 'conf', 'confess', 'confid', 'confin', 'confirm', 'conflict', 'conform', 'confront', 'confus', 'cong', 'congest', 'congrat', 'congreg', 'congress', 'connect', 'connecticut', 'conqu', 'cons', 'conscienty', 'conscy', 'consecr', 'consecut', 'consequ', 'conserv', 'consid', 'consign', 'consist', 'consol', 'consolid', 'conspir', 'const', 'constip', 'constitut', 'constrain', 'constraint', 'constru', 'construct', 'consult', 'consum', 'cont', 'contact', 'contagy', 'contain', 'contamin', 'contempl', 'contempt', 'contend', 'contest', 'context', 'contin', 'continu', 'contort', 'contract', 'contradict', 'contrast', 'contribut', 'control', 'conv', 'conveny', 'convers', 'convert', 'convey', 'convict', 'convint', 'convo', 'convolv', 'convoy', 'coo', 'cook', 'cooky', 'cool', 'coop', 'coordin', 'cop', 'copay', 'copyc', 'copyright', 'cor', 'cord', 'corey', 'corinth', 'corn', 'cornbread', 'corneli', 'cornwal', 'coron', 'corp', 'corps', 'correct', 'correspond', 'corrupt', 'corset', 'cos', 'cosm', 'cosmet', 'cosmo', 'cosmopolit', 'cosplay', 'cost', 'costum', 'cot', 'cotton', 'couch', 'cough', 'could', 'coult', 'council', 'councilm', 'counsel', 'count', 'counterproduc', 'countless', 'country', 'countrysid', 'county', 'coupl', 'coupon', 'cour', 'cours', 'court', 'courtesy', 'courth', 'courtney', 'cousin', 'cov', 'covetousn', 'covington', 'cow', 'coward', 'cowboy', 'cowork', 'cox', 'coz', 'cozy', 'cpin', 'craaaaaaack', 'crab', 'crack', 'craft', 'craisin', 'crak', 'cramp', 'crampy', 'cranberry', 'cranky', 'cranny', 'crap', 'crappy', 'crash', 'crav', 'crawl', 'cray', 'craziest', 'crazy', 'cre', 'cream', 'creamy', 'creativecommon', 'creativeli', 'cred', 'credit', 'cree', 'creek', 'creep', 'creepy', 'crem', 'cresc', 'crest', 'cretin', 'crew', 'cri', 'crib', 'cricket', 'cricnep', 'crim', 'crimin', 'crimson', 'cring', 'cris', 'crisp', 'crit', 'cro', 'croc', 'crochet', 'croiss', 'crol', 'cron', 'crop', 'cross', 'crossfit', 'crosshatch', 'crossroad', 'crossword', 'crotch', 'crow', 'crowd', 'crown', 'cru', 'cruc', 'crud', 'cruel', 'crumbl', 'crunch', 'crunchy', 'crunk', 'crush', 'crust', 'crutch', 'cruz', 'cry', 'cryin', 'cryst', 'css', 'cu', 'cub', 'cubic', 'cucumb', 'cuddl', 'cudnt', 'cue', 'cuff', 'cufflink', 'culin', 'culmin', 'culprit', 'cult', 'cum', 'cumberland', 'cumbersom', 'cunt', 'cup', 'cupcak', 'cur', 'curb', 'curfew', 'curios', 'curl', 'curricul', 'curry', 'curs', 'curtain', 'curvebal', 'cury', 'cus', 'cush', 'cushy', 'cuss', 'custod', 'custom', 'cut', 'cutesy', 'cuty', 'cuz', 'cx', 'cya', 'cyb', 'cyberspac', 'cyc', 'cyclind', 'cyn', 'cypress', 'cyst', 'czech', 'da', 'dabbl', 'dad', 'daddy', 'dag', 'dah', 'dai', 'daik', 'daisy', 'dakot', 'dal', 'daley', 'dalla', 'dam', 'dammit', 'damn', 'damon', 'damp', 'dan', 'danceflo', 'dancin', 'dang', 'dangl', 'daniel', 'dannik', 'danny', 'dant', 'dao', 'dar', 'dark', 'darkest', 'darl', 'darn', 'dart', 'das', 'dash', 'dashboard', 'dat', 'databas', 'datey', 'daught', 'daunt', 'dav', 'david', 'davidson', 'dawn', 'day', 'dayc', 'daydream', 'daylight', 'daytim', 'dayumm', 'daz', 'dazzl', 'dc', 'dd', 'de', 'dea', 'deact', 'dead', 'deadlin', 'deadp', 'deaf', 'deal', 'dealt', 'dean', 'dear', 'dearest', 'dearwendy', 'death', 'deb', 'debac', 'deborah', 'debr', 'debt', 'dec', 'decad', 'decaf', 'deceas', 'deceiv', 'decemb', 'decid', 'decit', 'deck', 'decl', 'declin', 'declut', 'decompress', 'deconstruct', 'decreas', 'decrib', 'ded', 'deduc', 'dee', 'deem', 'deen', 'deep', 'deepest', 'deepik', 'deeply', 'deer', 'def', 'default', 'defect', 'defend', 'defens', 'defer', 'deffin', 'defil', 'defin', 'definet', 'definit', 'defl', 'deform', 'defriend', 'defy', 'degr', 'degrass', 'dehydr', 'deity', 'deject', 'dek', 'del', 'delay', 'delet', 'delh', 'delib', 'delicy', 'delight', 'delilahlwl', 'delivery', 'delud', 'delux', 'delv', 'dem', 'demand', 'demo', 'democr', 'demograph', 'demon', 'demonst', 'demost', 'demot', 'den', 'denal', 'denim', 'denmark', 'denningss', 'denount', 'dens', 'dent', 'deny', 'deo', 'deod', 'dep', 'depart', 'depend', 'depict', 'deplet', 'deploy', 'depo', 'depr', 'deprav', 'deprec', 'depress', 'depth', 'derang', 'derby', 'derbyshir', 'derek', 'derfwadm', 'derid', 'derp', 'descar', 'descend', 'describ', 'desert', 'deserv', 'design', 'desir', 'desk', 'desktop', 'desol', 'desp', 'despair', 'despit', 'despond', 'dess', 'dessert', 'destash', 'destin', 'destiny', 'destroy', 'destruct', 'det', 'detach', 'detail', 'detatch', 'detect', 'detectin', 'deterg', 'determin', 'detery', 'detest', 'deto', 'detox', 'detract', 'detroit', 'detry', 'dev', 'devast', 'develop', 'devest', 'devil', 'devin', 'devo', 'devoid', 'devot', 'dew', 'dezinesamaz', 'dh', 'dharav', 'dharm', 'dhaw', 'di', 'diabet', 'diagnos', 'diagnost', 'diagon', 'dial', 'dialog', 'diamond', 'dian', 'dianam', 'diap', 'diarrhe', 'diary', 'diazepam', 'dichotom', 'dick', 'dickens', 'dickinson', 'dict', 'didint', 'die', 'died', 'diego', 'diet', 'diff', 'difficul', 'difficult', 'dig', 'digest', 'digit', 'dign', 'digress', 'digust', 'dikt', 'dilig', 'dilut', 'dim', 'dimend', 'dimin', 'dimpl', 'din', 'dinet', 'dingl', 'dink', 'dint', 'dip', 'dipshit', 'dir', 'direct', 'directionless', 'direspect', 'dirt', 'dirty', 'dis', 'disadv', 'disagr', 'disallud', 'disappear', 'disappoint', 'disapprov', 'disast', 'disband', 'disbeliev', 'disc', 'discard', 'discern', 'discharg', 'discipl', 'disciplin', 'disclaim', 'disclos', 'disco', 'discombob', 'discomfort', 'disconnect', 'disconsol', 'discont', 'discontinu', 'discount', 'discov', 'discovery', 'discrimin', 'discuss', 'disdain', 'diseas', 'diseng', 'disgest', 'disgrac', 'disgruntl', 'disgust', 'dish', 'disharmony', 'disheart', 'dishon', 'dishwash', 'disillud', 'disinfect', 'disinterest', 'disjoint', 'dislik', 'dismantl', 'dismay', 'dismiss', 'disney', 'disord', 'disorg', 'dispair', 'dispers', 'displac', 'display', 'displeas', 'dispos', 'disput', 'disq', 'disquiet', 'disregard', 'disrespect', 'disrupt', 'diss', 'dissapear', 'dissappear', 'dissassocy', 'dissatisfact', 'dissatisfy', 'dissect', 'disserv', 'dissip', 'dissolv', 'dist', 'distast', 'distil', 'distinct', 'distort', 'distract', 'distraught', 'distress', 'distribut', 'district', 'distrust', 'disturb', 'ditch', 'ditlevs', 'dittm', 'div', 'diva', 'divers', 'divert', 'divid', 'divin', 'divorc', 'divulg', 'diwal', 'diy', 'dizzy', 'dkang', 'dlk', 'dlpt', 'dm', 'dnt', 'doc', 'docil', 'docr', 'doct', 'docu', 'document', 'dod', 'dodg', 'doedollil', 'doer', 'dog', 'doh', 'doingaon', 'dojo', 'dol', 'doll', 'dom', 'domain', 'domin', 'don', 'donald', 'dong', 'donn', 'dont', 'dontknow', 'donut', 'dood', 'doodl', 'doodlesandscrapsofm', 'doom', 'doomn', 'door', 'doorknob', 'doorstep', 'doorway', 'dop', 'dopey', 'doraemon', 'doram', 'dork', 'dorky', 'dorm', 'dormir', 'dorothy', 'dos', 'dot', 'doubl', 'doubt', 'douch', 'douevenlift', 'dough', 'dous', 'dovetail', 'down', 'download', 'downright', 'downstair', 'downstream', 'downtempo', 'downtim', 'downtown', 'downvot', 'downward', 'doz', 'dpns', 'dps', 'dpt', 'dr', 'draft', 'draftblog', 'drag', 'dragon', 'drain', 'drak', 'dram', 'drama', 'drambuy', 'drank', 'drap', 'drast', 'draw', 'drawn', 'dre', 'dread', 'dream', 'dreamland', 'dreamworld', 'dreamy', 'drecky', 'dress', 'drew', 'dri', 'dribbl', 'drift', 'driftingthroughl', 'dril', 'drink', 'drinkin', 'drinky', 'drip', 'driv', 'drivel', 'driveway', 'droop', 'drop', 'drov', 'drown', 'drowsy', 'drs', 'drug', 'drum', 'drunk', 'dry', 'ds', 'dsl', 'dsp', 'dt', 'dual', 'dub', 'duba', 'dublin', 'dubstep', 'duby', 'duc', 'duck', 'duckl', 'ducky', 'dud', 'dudley', 'due', 'duet', 'duh', 'duk', 'dul', 'dulu', 'dumb', 'dumbass', 'dumbfound', 'dummy', 'dump', 'dumpl', 'dun', 'dung', 'dunham', 'dunnno', 'dunno', 'duno', 'dunst', 'duo', 'dup', 'duplex', 'dur', 'durd', 'dursley', 'dust', 'dustbin', 'dutch', 'duty', 'dvd', 'dvds', 'dvred', 'dwel', 'dwindl', 'dying', 'dykey', 'dyl', 'dynam', 'dysphor', 'eachoth', 'eag', 'eagl', 'eagleandham', 'ear', 'earl', 'earley', 'earliest', 'earn', 'earnest', 'earplug', 'earread', 'earshot', 'earth', 'earthquak', 'eas', 'easel', 'easiest', 'east', 'eastern', 'easy', 'easygo', 'eat', 'eatery', 'eb', 'ebay', 'ebony', 'ebook', 'echo', 'eck', 'eclips', 'eco', 'ecolog', 'econom', 'ecst', 'ecstasy', 'ect', 'ed', 'eddy', 'edg', 'edgy', 'ediebloom', 'edinburgh', 'edit', 'edith', 'edmonton', 'edochy', 'educ', 'educationg', 'edward', 'eepctqlhiafjwnrrma', 'eery', 'efeel', 'eff', 'effac', 'effect', 'effemin', 'efficy', 'effin', 'effort', 'effortless', 'eg', 'egalit', 'egf', 'ego', 'egypt', 'eh', 'eharmony', 'ehb', 'ehh', 'eid', 'eigh', 'eight', 'eighteen', 'eighty', 'eint', 'eith', 'el', 'elab', 'elain', 'elash', 'elast', 'elbow', 'eld', 'elect', 'electr', 'electrocut', 'eleg', 'elev', 'elf', 'elicit', 'elihu', 'elimin', 'elit', 'elizabe', 'ellipt', 'eloqu', 'els', 'elsewh', 'elud', 'elv', 'em', 'email', 'emb', 'embalm', 'embarass', 'embaress', 'embark', 'embarras', 'embarrass', 'embed', 'embit', 'emboss', 'embrac', 'emerg', 'emillionst', 'emilyhursh', 'emin', 'emm', 'emo', 'emoexad', 'emot', 'emoticon', 'emotiona', 'emotionless', 'empath', 'empathet', 'empatht', 'empathy', 'emphas', 'employ', 'empow', 'empty', 'emty', 'emy', 'en', 'enact', 'enamo', 'encaps', 'encas', 'ench', 'enclos', 'enco', 'encod', 'encompass', 'encount', 'end', 'endeav', 'endless', 'endorphin', 'endors', 'endzon', 'enemy', 'energ', 'energet', 'energy', 'enfold', 'enforc', 'eng', 'engin', 'engl', 'england', 'engrain', 'enh', 'enjamb', 'enjorla', 'enjoy', 'enl', 'enmay', 'enorm', 'enough', 'enought', 'enquiry', 'enr', 'enrich', 'ens', 'ensign', 'ensu', 'ent', 'entail', 'entertain', 'enthral', 'enthusiasm', 'enthusiast', 'entir', 'entirel', 'entitil', 'entitl', 'entrench', 'entrust', 'entry', 'enuff', 'env', 'envelop', 'envid', 'environ', 'envy', 'ep', 'epid', 'epilept', 'epiphany', 'episod', 'epithet', 'eq', 'eqaf', 'equ', 'equilibr', 'equip', 'er', 'era', 'erad', 'eric', 'erik', 'erm', 'errand', 'errr', 'erupt', 'escap', 'eschew', 'escort', 'esp', 'espec', 'espresso', 'esqu', 'ess', 'essay', 'est', 'esteem', 'estim', 'estrang', 'estrog', 'esy', 'et', 'etap', 'etc', 'etern', 'eth', 'ethiop', 'ethn', 'etry', 'etsy', 'eu', 'euch', 'eulalia', 'eupherm', 'euphor', 'eurgh', 'euro', 'eurodancemix', 'europ', 'eurovid', 'euskc', 'ev', 'evalu', 'evangel', 'evap', 'eventuallyth', 'everblight', 'everchang', 'everit', 'every', 'everybitterthingissweet', 'everybody', 'everyday', 'everyfuckingth', 'everyon', 'everyth', 'everytim', 'everywh', 'evey', 'evgen', 'evict', 'evid', 'evil', 'evok', 'evolv', 'ew', 'ewhich', 'ex', 'exact', 'exag', 'exam', 'examin', 'exampl', 'exboyfriend', 'exceiv', 'excel', 'excerc', 'excess', 'exchang', 'excit', 'exclaim', 'exclud', 'excrucy', 'excus', 'execut', 'exempl', 'exempt', 'exerc', 'exert', 'exexbf', 'exfo', 'exh', 'exhaust', 'exhibit', 'exhil', 'exhilir', 'exict', 'exit', 'exot', 'expand', 'expansiveperspect', 'expatry', 'expect', 'expedit', 'expend', 'expens', 'expereint', 'expert', 'expery', 'expl', 'explain', 'expload', 'explod', 'exploit', 'expon', 'export', 'expos', 'express', 'expressway', 'exspress', 'ext', 'extend', 'extern', 'extery', 'extinct', 'extr', 'extra', 'extract', 'extraordin', 'extrem', 'extremem', 'extremley', 'extrovert', 'exub', 'ey', 'eyebrow', 'eyeglass', 'eyelash', 'eyelid', 'eyelin', 'eyesight', 'eyo', 'eyr', 'fa', 'fab', 'fabol', 'fabr', 'fac', 'facebook', 'facil', 'facilit', 'facsimilogo', 'fact', 'facul', 'fad', 'fahad', 'fai', 'fail', 'faint', 'fair', 'fairy', 'fait', 'faith', 'faithsedg', 'fak', 'fal', 'fals', 'falt', 'falun', 'fam', 'famili', 'famy', 'fan', 'fandom', 'fanfict', 'fangirl', 'fant', 'fantab', 'fantast', 'fantasy', 'far', 'farafin', 'farewel', 'farm', 'farth', 'fascin', 'fascit', 'fash', 'fast', 'fastforward', 'fat', 'fateh', 'fath', 'fathom', 'fatigu', 'fatty', 'fault', 'faux', 'fav', 'favo', 'favorit', 'favourit', 'fb', 'fe', 'fear', 'fearless', 'feast', 'feat', 'feath', 'feaut', 'feb', 'febru', 'fed', 'fedex', 'fedotenko', 'fedtast', 'fee', 'feebl', 'feedback', 'feedlink', 'feefyefo', 'feel', 'feelbut', 'feelin', 'feelingless', 'feelingof', 'feet', 'feist', 'fel', 'fellow', 'felt', 'fem', 'femin', 'feminin', 'fend', 'feng', 'fergy', 'ferocy', 'ferry', 'fertil', 'ferv', 'fest', 'fet', 'fetch', 'fev', 'few', 'ffayth', 'fff', 'ffs', 'ffviii', 'ffxi', 'fiant', 'fib', 'fic', 'fict', 'fid', 'fiddl', 'field', 'fieldtrip', 'fierc', 'fiesty', 'fif', 'fifteen', 'fifty', 'fig', 'fight', 'fightst', 'figt', 'fil', 'film', 'filmf', 'filmmak', 'filt', 'fin', 'finch', 'find', 'finest', 'fing', 'fingernail', 'fingertip', 'fink', 'finland', 'finnerty', 'fir', 'firearm', 'firef', 'fireplac', 'firework', 'firey', 'firm', 'first', 'firstborn', 'firsthand', 'fish', 'fist', 'fit', 'fitch', 'fiv', 'fix', 'fixt', 'flab', 'flac', 'flaccid', 'flag', 'flagel', 'flail', 'flak', 'flaky', 'flam', 'flamingo', 'flannel', 'flap', 'flar', 'flash', 'flashback', 'flashlight', 'flashy', 'flat', 'flatm', 'flaunt', 'flav', 'flavo', 'flaw', 'flawless', 'fle', 'fled', 'fleec', 'fleet', 'flesh', 'flew', 'flex', 'flexy', 'fli', 'flia', 'flick', 'flickr', 'flight', 'flighty', 'flinch', 'fling', 'flip', 'flirt', 'flirty', 'flist', 'flo', 'flock', 'flog', 'flood', 'flop', 'flor', 'florid', 'floss', 'flound', 'flow', 'flowy', 'flu', 'fluff', 'fluffy', 'fluid', 'flung', 'flunk', 'flush', 'flust', 'flut', 'flux', 'fly', 'fma', 'fn', 'fob', 'foc', 'focus', 'fod', 'fog', 'foggy', 'foibl', 'foist', 'fold', 'folk', 'folkeskol', 'folksy', 'follic', 'follow', 'fom', 'fond', 'fondl', 'font', 'food', 'foody', 'fool', 'foot', 'footb', 'footbal', 'for', 'foray', 'forc', 'ford', 'forearm', 'forebod', 'forecast', 'foref', 'forefoot', 'forefront', 'forego', 'forehead', 'foreign', 'forelorn', 'fores', 'foreshadow', 'forest', 'forev', 'forg', 'forgav', 'forget', 'forgot', 'fork', 'form', 'formul', 'forsak', 'fortitud', 'fortnight', 'fortun', 'forum', 'forward', 'fossil', 'fost', 'fought', 'foul', 'found', 'foundry', 'fountain', 'four', 'fourteen', 'foward', 'fps', 'fr', 'fract', 'frag', 'fragil', 'fragr', 'frail', 'fram', 'framebord', 'framework', 'fran', 'frank', 'frant', 'franz', 'frap', 'frappucino', 'fras', 'fraud', 'fray', 'frazzl', 'fre', 'freak', 'freakin', 'freaky', 'freddy', 'freedom', 'freel', 'freeston', 'freez', 'freind', 'fren', 'french', 'frenh', 'frequ', 'fresc', 'fresh', 'freshm', 'freud', 'fri', 'frickin', 'friday', 'fridg', 'friend', 'friendfee', 'frig', 'friggin', 'fright', 'fril', 'frizz', 'fro', 'frock', 'frog', 'frombut', 'fromth', 'fron', 'front', 'frost', 'frosty', 'frown', 'froz', 'frug', 'fruit', 'frumpy', 'frust', 'ftw', 'fuchs', 'fuck', 'fuckin', 'fudg', 'fudgy', 'fuel', 'fug', 'fuhr', 'ful', 'fulfil', 'fullbright', 'fullest', 'fulsom', 'fum', 'fumbl', 'fun', 'funct', 'fund', 'funda', 'fundra', 'funk', 'funky', 'funny', 'fur', 'furnit', 'furstenberg', 'fury', 'fuss', 'fut', 'futil', 'futon', 'futru', 'fuzzy', 'gabapentin', 'gabriell', 'gag', 'gai', 'gaig', 'gain', 'gal', 'galaxy', 'gallery', 'galley', 'gallon', 'gallow', 'galv', 'gam', 'gamb', 'gameplay', 'gan', 'gand', 'gandhigir', 'gang', 'gap', 'gar', 'garb', 'gard', 'garmin', 'garn', 'gary', 'gas', 'gaseum', 'gasp', 'gast', 'gat', 'gateway', 'gath', 'gatorad', 'gatsby', 'gatsseo', 'gauch', 'gaug', 'gav', 'gawd', 'gay', 'gaz', 'gb', 'gear', 'ged', 'gee', 'geek', 'geekparty', 'geez', 'gel', 'gemin', 'gen', 'gend', 'genealog', 'genel', 'genentech', 'generos', 'genet', 'geni', 'genr', 'gent', 'gentl', 'gentlem', 'gentr', 'genuflect', 'genuin', 'geoc', 'geograph', 'georg', 'georgy', 'ger', 'gerl', 'germ', 'germany', 'gerry', 'gerrymand', 'gertrud', 'gervas', 'gest', 'get', 'getaway', 'getin', 'gettin', 'getty', 'getyourprettyon', 'gfath', 'gfb', 'gfs', 'ghd', 'ghetto', 'ghorban', 'ghost', 'gi', 'giant', 'giardin', 'giddy', 'gift', 'gig', 'giggl', 'gikwang', 'gilbert', 'gillard', 'gimmick', 'gin', 'ging', 'ginorm', 'gir', 'giraff', 'girl', 'girlfriend', 'giv', 'giveaway', 'glad', 'glady', 'glam', 'glamo', 'gland', 'glant', 'glar', 'glasberg', 'glasgow', 'glass', 'glc', 'gle', 'glen', 'glimps', 'glint', 'glist', 'glit', 'glitch', 'glo', 'glob', 'gloom', 'glory', 'gloss', 'glossy', 'glov', 'glow', 'glowy', 'glu', 'glum', 'glut', 'glycem', 'glycerin', 'gm', 'gmc', 'gna', 'gnaw', 'go', 'goal', 'goat', 'god', 'godaddy', 'goddamn', 'goddess', 'goe', 'goer', 'goin', 'going', 'gold', 'goldilock', 'goldschl', 'golia', 'gon', 'gong', 'good', 'goodby', 'goodnight', 'goodwil', 'goody', 'googl', 'gook', 'goon', 'gooooood', 'goos', 'goosey', 'gop', 'gor', 'gorg', 'gosh', 'gosm', 'gospel', 'got', 'goth', 'gotong', 'govern', 'govr', 'gown', 'gp', 'grab', 'grabby', 'grac', 'gracia', 'gracy', 'grad', 'gradu', 'graham', 'grain', 'gramm', 'grand', 'grandchild', 'grandchildr', 'grandfath', 'grandios', 'grandm', 'grandmoth', 'grandp', 'grandson', 'granny', 'grant', 'grap', 'graph', 'grappl', 'grasp', 'grass', 'grassroot', 'grat', 'gratitud', 'gratuit', 'grav', 'gray', 'graz', 'gre', 'greasy', 'greatbritain', 'greatest', 'gree', 'greedy', 'greek', 'green', 'greenery', 'greet', 'greg', 'greiv', 'grew', 'grey', 'gri', 'grief', 'griev', 'griff', 'gril', 'grim', 'grimac', 'grin', 'gring', 'grip', 'grit', 'gritty', 'gro', 'grocery', 'groggy', 'groom', 'gross', 'grossm', 'grotesqu', 'grouchy', 'ground', 'groundless', 'group', 'grov', 'grow', 'growl', 'grown', 'grudg', 'grumbl', 'grumpy', 'gs', 'gt', 'guar', 'guarantee', 'guard', 'gucc', 'gud', 'guess', 'guest', 'guffaw', 'gui', 'guid', 'guidebook', 'guidelin', 'guil', 'guild', 'guilt', 'guine', 'guit', 'gulam', 'gulp', 'gummy', 'gump', 'gun', 'gunk', 'gunn', 'gunong', 'gur', 'gush', 'gust', 'gusto', 'gut', 'guy', 'gw', 'gwen', 'gwiyom', 'gym', 'gyp', 'ha', 'haag', 'habanero', 'habit', 'hach', 'hack', 'hackl', 'hae', 'haggard', 'haggl', 'hah', 'hahah', 'hahahahahh', 'hai', 'haiku', 'hail', 'hair', 'haircut', 'hairsty', 'hairstyl', 'hak', 'hakodesh', 'hal', 'haley', 'half', 'halfway', 'hallmark', 'halloween', 'hallucin', 'hallway', 'halt', 'ham', 'hamburg', 'hamp', 'hamst', 'hanbeon', 'hand', 'handb', 'handbook', 'handbrak', 'handheld', 'handl', 'handmad', 'handrail', 'handsom', 'handsomefamy', 'handss', 'hanford', 'hang', 'hangov', 'hannah', 'hans', 'hap', 'happend', 'happenst', 'happiest', 'happiu', 'happpy', 'happy', 'happywarmworld', 'hapt', 'hapy', 'har', 'harass', 'harb', 'hard', 'hardc', 'hardcov', 'hardest', 'hardwork', 'harley', 'harm', 'harmless', 'harmon', 'harmony', 'harrass', 'harry', 'harsh', 'hart', 'harvest', 'harvey', 'has', 'hassl', 'hast', 'hat', 'hatch', 'hatchet', 'haten', 'hath', 'haul', 'haunt', 'haus', 'hav', 'havet', 'havoc', 'hawai', 'haway', 'hawk', 'hawkshead', 'haz', 'hazel', 'hazy', 'hazzard', 'hb', 'hd', 'head', 'headach', 'headachy', 'headband', 'headcold', 'headlamp', 'headless', 'headlock', 'headmast', 'headphon', 'headspac', 'headway', 'heal', 'healthc', 'healthy', 'heap', 'hear', 'heard', 'hearnsay', 'heart', 'heartach', 'heartb', 'heartbreak', 'heartbrok', 'heartburn', 'heartdesir', 'heartless', 'heartrend', 'heartsick', 'hearty', 'heat', 'heath', 'heav', 'heavy', 'heck', 'hect', 'hedg', 'hedgehog', 'hee', 'heel', 'hefty', 'heh', 'heheheheh', 'heid', 'height', 'heimbuch', 'hein', 'heinek', 'heir', 'hel', 'held', 'helen', 'hell', 'hellip', 'hello', 'helm', 'help', 'helpless', 'helterskelt', 'helvetic', 'hemorrhoid', 'hen', 'hendrick', 'henriett', 'hent', 'henypir', 'hepburn', 'herald', 'herb', 'herc', 'herd', 'herm', 'hern', 'hero', 'herod', 'heroin', 'herp', 'herrm', 'herth', 'herzog', 'hes', 'hese', 'hesit', 'heung', 'heureulsurok', 'hey', 'heyy', 'hgtv', 'hi', 'hiat', 'hibern', 'hiccup', 'hick', 'hid', 'hideak', 'hierarchy', 'high', 'highest', 'highlight', 'highschool', 'hih', 'hiit', 'hijack', 'hik', 'hil', 'hillsid', 'hilmar', 'hind', 'hindr', 'hindsight', 'hindu', 'hint', 'hinterland', 'hip', 'hipst', 'hir', 'hirs', 'hist', 'hit', 'hitl', 'hiv', 'hmm', 'hmmm', 'hmmmmm', 'ho', 'hoard', 'hoax', 'hob', 'hobbl', 'hobby', 'hobic', 'hobnob', 'hockey', 'hockney', 'hog', 'hogmanay', 'hohoho', 'hol', 'hold', 'holiday', 'holl', 'holland', 'hollow', 'holloway', 'hollyoak', 'hollywood', 'holy', 'holyhead', 'hom', 'homeland', 'homeless', 'homemad', 'homemak', 'homeown', 'homep', 'homeschool', 'homesick', 'hometown', 'homework', 'homey', 'homophob', 'homosex', 'hon', 'hondura', 'honest', 'honesty', 'honey', 'hong', 'honkerblonk', 'hono', 'honolulu', 'hoo', 'hood', 'hook', 'hookah', 'hoop', 'hop', 'hopeless', 'hor', 'horizon', 'horizont', 'hormon', 'horn', 'horny', 'horr', 'horrend', 'horrid', 'hors', 'horsey', 'hospit', 'host', 'hostel', 'hostil', 'hot', 'hotel', 'hotlin', 'hotshot', 'hottest', 'hour', 'hourglass', 'hous', 'housebound', 'household', 'housekeep', 'housem', 'housew', 'hov', 'hovel', 'howev', 'hp', 'hr', 'href', 'hrs', 'hs', 'hsp', 'hsps', 'http', 'https', 'hu', 'hubbard', 'hubby', 'huckleberry', 'huddl', 'hudson', 'hug', 'hugh', 'huhuhu', 'hum', 'humanb', 'humbl', 'humblest', 'humbug', 'humid', 'humil', 'humm', 'hummpffff', 'humo', 'hump', 'humung', 'humy', 'hun', 'hunch', 'hundr', 'hung', 'hungov', 'hungry', 'hunt', 'hur', 'hurl', 'hurry', 'hurt', 'hurtl', 'husband', 'hussein', 'hw', 'hy', 'hyd', 'hydr', 'hyen', 'hyena', 'hygy', 'hymn', 'hyp', 'hyperchondr', 'hyperemes', 'hypersex', 'hyperthyroid', 'hyperventil', 'hyph', 'hypnos', 'hypocrisy', 'hypocrit', 'hypotherm', 'hyun', 'hyunda', 'hyunjin', 'ia', 'iam', 'ian', 'ib', 'ibleeditout', 'ic', 'ick', 'icky', 'icon', 'icy', 'id', 'idaho', 'idc', 'ide', 'idea', 'ident', 'idiocy', 'idiosyncrasy', 'idiot', 'idk', 'idl', 'idol', 'idrc', 'idreamcult', 'idyl', 'ie', 'ifram', 'ifyouwanttoknow', 'ig', 'iggy', 'ight', 'ign', 'ignit', 'ii', 'il', 'illeg', 'illegitim', 'illicit', 'illino', 'illog', 'illud', 'illust', 'im', 'imag', 'imagebox', 'imagin', 'imbib', 'imbicil', 'imdo', 'img', 'imit', 'imm', 'immediet', 'immedy', 'immens', 'immers', 'immigr', 'immin', 'immobl', 'immun', 'imp', 'impact', 'impaty', 'impend', 'impenet', 'imperfect', 'imperson', 'imperturb', 'impl', 'imply', 'impolit', 'import', 'impos', 'imposs', 'impost', 'impot', 'impov', 'impract', 'impress', 'imprint', 'impromptu', 'improv', 'impuls', 'in', 'inacc', 'inact', 'inadaqu', 'inadequ', 'inadvert', 'inanim', 'inapporpry', 'inartic', 'inaug', 'inb', 'incalc', 'incap', 'incapacit', 'incas', 'incens', 'incess', 'incest', 'incestu', 'inch', 'incheswhyinch', 'incid', 'inclin', 'includ', 'incoh', 'incom', 'incompet', 'incomplet', 'inconsequ', 'inconsid', 'inconsist', 'inconveny', 'incorp', 'incorrect', 'incr', 'increas', 'incred', 'ind', 'indecid', 'indee', 'independ', 'indid', 'indiff', 'indig', 'indigest', 'indigo', 'indirect', 'indiscrimin', 'indisput', 'individ', 'indones', 'induc', 'indulg', 'industry', 'indy', 'ineffect', 'inept', 'ineq', 'inescap', 'inevit', 'inexcus', 'inexpery', 'inexpl', 'inf', 'infact', 'infantry', 'infatu', 'infect', 'infer', 'infertil', 'infery', 'infidel', 'infield', 'infl', 'inflam', 'inflict', 'influ', 'influx', 'info', 'inform', 'infp', 'infrastruct', 'infrequ', 'infury', 'infus', 'ing', 'ingeny', 'ingr', 'ingrain', 'ingredy', 'ingrid', 'inh', 'inhibit', 'inhum', 'init', 'inject', 'injury', 'injust', 'ink', 'inlin', 'inlov', 'innanim', 'innoc', 'innov', 'innuendo', 'input', 'inquir', 'inquisit', 'ins', 'insaty', 'inscry', 'insdy', 'insec', 'insect', 'insensit', 'insert', 'insid', 'insidy', 'insight', 'insign', 'insint', 'insipid', 'insist', 'insomn', 'inspect', 'inspir', 'inspit', 'inst', 'instagram', 'instal', 'instead', 'instig', 'instil', 'instinct', 'institut', 'instruct', 'insufficy', 'insul', 'insult', 'insyallah', 'int', 'intact', 'intak', 'integr', 'intellect', 'intellig', 'intend', 'intens', 'interact', 'interceiv', 'intercess', 'intercours', 'interest', 'interf', 'interloch', 'intermarry', 'intermedy', 'intermin', 'intermit', 'intern', 'internet', 'internetsph', 'interperson', 'interpret', 'interrupt', 'intersex', 'interv', 'interview', 'intim', 'intimid', 'intol', 'intox', 'intrigu', 'intro', 'introduc', 'introspect', 'introvert', 'intrud', 'intub', 'intuit', 'inund', 'inv', 'invad', 'invary', 'invas', 'invert', 'invest', 'investig', 'invig', 'invinc', 'invis', 'invit', 'invoc', 'involv', 'io', 'iolan', 'ipad', 'iphon', 'ipod', 'iq', 'ir', 'iraq', 'irc', 'irf', 'irl', 'irm', 'iron', 'irregardless', 'irrelev', 'irrep', 'irreplac', 'irresist', 'irresponc', 'irrespons', 'irrevoc', 'irrit', 'irwin', 'isaac', 'isabell', 'ish', 'islam', 'island', 'ism', 'ismay', 'ismobl', 'isobelmeg', 'isol', 'ispr', 'isprivateblog', 'israel', 'israelit', 'issu', 'istanb', 'it', 'ita', 'itchy', 'itdamyeon', 'item', 'itg', 'itsy', 'ittt', 'itv', 'iv', 'ivspirit', 'ivy', 'iw', 'iy', 'jack', 'jacket', 'jackson', 'jacksonvil', 'jacob', 'jacqu', 'jacynth', 'jad', 'jaeryong', 'jag', 'jahm', 'jail', 'jajaj', 'jak', 'jakun', 'jalapeno', 'jalop', 'jam', 'jamaic', 'jamb', 'jamy', 'jan', 'janel', 'janin', 'janu', 'jap', 'japanes', 'jar', 'jareth', 'jasmin', 'jason', 'javascrib', 'jaw', 'jay', 'jayson', 'jazz', 'jazzyboy', 'jcho', 'jdelivery', 'jeal', 'jealousy', 'jean', 'jeanet', 'jeanny', 'jed', 'jeer', 'jeff', 'jehovah', 'jel', 'jen', 'jenny', 'jens', 'jeoffrey', 'jerald', 'jeremy', 'jerk', 'jerom', 'jerry', 'jersey', 'jes', 'jess', 'jessicadickinsongoodm', 'jest', 'jet', 'jew', 'jewellery', 'jewelry', 'jhbdjhdfbjdfhbfd', 'ji', 'jia', 'jigsaw', 'jil', 'jilt', 'jim', 'jimmy', 'jin', 'jing', 'jittery', 'jo', 'joan', 'job', 'joe', 'joel', 'joey', 'jog', 'jogless', 'johan', 'john', 'johnny', 'johnnykas', 'johnson', 'joi', 'join', 'joint', 'jok', 'jol', 'joleon', 'jolt', 'jon', 'jonah', 'jonalyn', 'jonath', 'jones', 'jongwoon', 'jonny', 'jont', 'joong', 'jord', 'joseph', 'josh', 'joshu', 'jot', 'journ', 'journey', 'jov', 'joy', 'jreyez', 'jrpgs', 'js', 'jsk', 'jt', 'jtwoo', 'jubl', 'jud', 'judeo', 'judg', 'judy', 'jug', 'juggl', 'jugr', 'juic', 'juicy', 'jul', 'julianna', 'juliemadblog', 'juliet', 'july', 'jumbl', 'jumbleupon', 'jump', 'jumpy', 'jun', 'jungeun', 'jungl', 'junk', 'juny', 'jur', 'jury', 'just', 'justansw', 'justin', 'justquiltn', 'justwh', 'jz', 'ka', 'kacang', 'kad', 'kai', 'kaikoh', 'kair', 'kakash', 'kal', 'kam', 'kamik', 'kand', 'kangn', 'kansa', 'kar', 'karaok', 'kardash', 'kareen', 'karen', 'karin', 'karm', 'karmardav', 'karu', 'kassim', 'kastriot', 'kat', 'katany', 'kathump', 'kathy', 'katj', 'katniss', 'katnisss', 'katrin', 'katrina', 'katy', 'kay', 'kayl', 'keen', 'keep', 'keepmeinstitchez', 'kei', 'keiko', 'keit', 'kelsey', 'ken', 'kendo', 'kenny', 'kentucky', 'keny', 'kept', 'kermit', 'kerouac', 'kerry', 'kevin', 'key', 'keyboard', 'keychain', 'keynot', 'keyword', 'kg', 'khalif', 'kharto', 'khatsi', 'khezef', 'khi', 'kiat', 'kick', 'kid', 'kiddo', 'kiddy', 'kidnap', 'kierkegaard', 'kil', 'killjoy', 'kilomet', 'kilt', 'kim', 'kin', 'kind', 'kinda', 'kindd', 'kindergart', 'kindest', 'king', 'kingdom', 'kinison', 'kiss', 'kit', 'kitch', 'kith', 'kitob', 'kitty', 'kitw', 'kivin', 'kiyosh', 'kj', 'kla', 'klein', 'kleinkind', 'klyst', 'km', 'kne', 'kneel', 'knelt', 'knew', 'knif', 'knight', 'knit', 'knock', 'knot', 'know', 'knowledg', 'knowleg', 'known', 'knuckl', 'knwing', 'kod', 'kolo', 'kom', 'kompany', 'kong', 'kook', 'kor', 'kore', 'kot', 'koyam', 'krem', 'kremlin', 'krist', 'kristy', 'krupk', 'kubrick', 'kudo', 'kueh', 'kulih', 'kum', 'kun', 'kuribayash', 'kurt', 'kuwait', 'kuy', 'kx', 'kyuhyun', 'la', 'lab', 'label', 'labo', 'labyrin', 'lac', 'lacey', 'lack', 'lacklust', 'lacon', 'lacy', 'lad', 'laddy', 'lady', 'ladybit', 'laetsh', 'lag', 'laid', 'lair', 'laiy', 'lajoy', 'lak', 'lam', 'lamb', 'lambrusco', 'lamin', 'lan', 'land', 'landlord', 'landlub', 'landmass', 'landscap', 'langu', 'languagedirect', 'lanka', 'lant', 'lap', 'lapel', 'laps', 'laptop', 'lard', 'larg', 'largest', 'larry', 'las', 'lash', 'last', 'lat', 'latch', 'latest', 'latex', 'lath', 'latley', 'laug', 'laugh', 'laught', 'launch', 'laund', 'laundry', 'laup', 'laur', 'laury', 'lav', 'lavand', 'lavend', 'lavign', 'law', 'lawless', 'lawn', 'lawrencewashington', 'lawy', 'lax', 'lay', 'layout', 'laz', 'lazy', 'lb', 'lbs', 'lds', 'le', 'lea', 'lead', 'leadingst', 'leaf', 'leafy', 'leagu', 'leak', 'lean', 'leap', 'lear', 'learn', 'learnt', 'leas', 'least', 'leath', 'leav', 'lec', 'lect', 'led', 'ledang', 'lee', 'leech', 'leer', 'left', 'leftov', 'lefty', 'leg', 'legard', 'legend', 'legitem', 'legitim', 'lego', 'legtim', 'leis', 'lej', 'lem', 'lemon', 'lemonad', 'lemony', 'len', 'lend', 'leng', 'lengh', 'length', 'lengthy', 'lenoir', 'lens', 'lensfl', 'lent', 'leo', 'leonard', 'leopard', 'les', 'lesb', 'leslielandberg', 'less', 'lesson', 'lest', 'lestar', 'let', 'letdown', 'leth', 'letharg', 'lettuc', 'lev', 'level', 'lex', 'lexicon', 'lh', 'li', 'liabl', 'liam', 'liar', 'lib', 'libertin', 'liberty', 'libido', 'libr', 'lic', 'licens', 'lick', 'lid', 'lie', 'liebkind', 'liebst', 'lied', 'liek', 'lif', 'lifelin', 'lifesp', 'lifestyl', 'lifetim', 'lift', 'light', 'lighthead', 'lightheart', 'lightmet', 'lightn', 'lightsynt', 'lightweight', 'lik', 'likeaudrey', 'likeguy', 'likew', 'lil', 'lilongw', 'lily', 'lim', 'limb', 'limbo', 'limit', 'limply', 'lin', 'lind', 'lindo', 'ling', 'lingo', 'lingu', 'link', 'linkedin', 'linkl', 'linux', 'lion', 'lip', 'lipbalm', 'lippman', 'lipstick', 'liqu', 'liquid', 'liriano', 'lis', 'lisa', 'list', 'listless', 'lit', 'litehead', 'lits', 'littl', 'liv', 'liveagainsttheflow', 'livejourn', 'liverpool', 'livevideo', 'livid', 'liz', 'lizzy', 'lj', 'ller', 'lll', 'lloyd', 'load', 'loan', 'loath', 'lob', 'lobby', 'lobel', 'loc', 'lock', 'locomot', 'lodg', 'loft', 'log', 'logarythm', 'logo', 'loin', 'lok', 'lokp', 'lol', 'lolit', 'lollipop', 'lollypop', 'lololol', 'lon', 'london', 'long', 'longbottom', 'longest', 'longev', 'longlast', 'lonley', 'look', 'lookin', 'lookout', 'loom', 'looooong', 'loop', 'loos', 'loot', 'loqu', 'lor', 'lord', 'loren', 'los', 'loso', 'loss', 'lost', 'lot', 'lothair', 'lott', 'lottery', 'lou', 'louboutin', 'louch', 'loud', 'loudon', 'loung', 'lousy', 'lov', 'lovebox', 'lovecraft', 'loved', 'lovein', 'lovin', 'low', 'lowdown', 'lowest', 'lowlight', 'loy', 'loyal', 'lp', 'lrt', 'lsd', 'lt', 'ltr', 'luar', 'luca', 'luck', 'lucky', 'lucy', 'ludicr', 'luftwaff', 'lug', 'luh', 'luk', 'lul', 'lulu', 'lum', 'lumin', 'lump', 'lun', 'lunajubl', 'lunapad', 'lunch', 'luncheon', 'lunchroom', 'lunchtim', 'lung', 'lupron', 'lur', 'lurgy', 'lurk', 'luscy', 'lush', 'lux', 'luxury', 'lv', 'lve', 'lying', 'lym', 'lynch', 'lyr', 'mabel', 'mac', 'macabr', 'macendarf', 'macey', 'machiavel', 'machin', 'machinery', 'macho', 'mack', 'maclain', 'mad', 'madr', 'maelstrom', 'maev', 'mag', 'magazin', 'maggy', 'magn', 'magnanim', 'magnet', 'magnitud', 'magzin', 'mai', 'maid', 'mail', 'mailbox', 'mailm', 'mailord', 'main', 'mainstream', 'maintain', 'maj', 'majest', 'mak', 'makeov', 'makeup', 'makin', 'makm', 'mal', 'maladapt', 'malays', 'malign', 'malkin', 'mallr', 'malm', 'mam', 'mama', 'mamm', 'mammo', 'mammogram', 'man', 'manchest', 'mand', 'mandarin', 'mang', 'mango', 'manhandl', 'maniac', 'manifest', 'manil', 'manip', 'manipulk', 'manirado', 'manitz', 'mankind', 'manso', 'mantr', 'manuchehr', 'manufact', 'manuscrib', 'many', 'map', 'mar', 'marathon', 'marbl', 'march', 'marg', 'margaret', 'margin', 'mari', 'mariah', 'marijuan', 'marillac', 'marilyn', 'marinad', 'mark', 'market', 'marketplac', 'marlin', 'marlon', 'marlow', 'marry', 'marsh', 'marshmallow', 'mart', 'marth', 'martin', 'martinez', 'marvel', 'mary', 'marybe', 'maryland', 'marzzz', 'mas', 'masal', 'mascar', 'mascara', 'maschk', 'masculin', 'mash', 'mashmellow', 'mask', 'masoch', 'mass', 'massou', 'mast', 'masterpiec', 'mastery', 'masturb', 'mat', 'match', 'matern', 'math', 'mathem', 'matin', 'mattress', 'matty', 'maturestudenthanginginth', 'maury', 'max', 'maxim', 'may', 'mayb', 'mayhem', 'maz', 'mba', 'mbourgon', 'mca', 'mccanns', 'mccarthy', 'mcdonalds', 'mcgarrigle', 'mcgonnagall', 'mcpherson', 'mcraven', 'mcslackerson', 'md', 'mda', 'mea', 'meadow', 'meal', 'mean', 'meand', 'meaningless', 'meant', 'meantim', 'meas', 'meat', 'meatbal', 'mech', 'med', 'medicin', 'mediocr', 'medit', 'mediter', 'medy', 'meek', 'meet', 'meg', 'meh', 'mehow', 'meing', 'mel', 'melancho', 'melanchol', 'melbourn', 'mellow', 'melodram', 'melody', 'melonom', 'melt', 'meltdown', 'mem', 'memb', 'membr', 'memoir', 'memset', 'men', 'menash', 'mend', 'menopaus', 'mens', 'menst', 'menswear', 'ment', 'mentel', 'menu', 'mer', 'meras', 'merciless', 'mercy', 'merek', 'merg', 'merid', 'merit', 'mermaidhair', 'merry', 'merson', 'mes', 'mesh', 'mesm', 'mess', 'messy', 'met', 'metabol', 'metal', 'metaph', 'metformin', 'methink', 'method', 'metic', 'metropolit', 'mety', 'mex', 'mg', 'mi', 'mia', 'mic', 'micah', 'michael', 'michel', 'michig', 'microcosm', 'microsoft', 'mid', 'midcentury', 'middl', 'middot', 'midl', 'midnight', 'midor', 'midst', 'midterm', 'midw', 'midwest', 'midwestern', 'midwifery', 'might', 'mighty', 'migr', 'migrain', 'mihm', 'mik', 'mil', 'mild', 'mileston', 'milit', 'milk', 'milkshak', 'millenn', 'milligram', 'million', 'milong', 'mim', 'mimedog', 'min', 'minas', 'mind', 'mindless', 'mindset', 'minerv', 'mingl', 'minib', 'minim', 'minisc', 'minissh', 'mint', 'minusc', 'minut', 'miny', 'mir', 'mirac', 'mircowav', 'mis', 'misbehavy', 'mischief', 'miscr', 'misery', 'misfortun', 'misg', 'mishandl', 'mishap', 'misinform', 'misinterpret', 'misjudg', 'misl', 'mislead', 'miso', 'misplac', 'misrepres', 'miss', 'misscary', 'missg', 'missil', 'misspelt', 'misst', 'missy', 'mist', 'mistak', 'mistress', 'misty', 'misunderstand', 'misunderstood', 'misus', 'mit', 'mitchel', 'mix', 'mixt', 'miyav', 'mk', 'ml', 'mm', 'moan', 'moanday', 'mob', 'mobileclass', 'mobl', 'mock', 'mod', 'model', 'modern', 'modest', 'moe', 'moff', 'mog', 'moham', 'mohdash', 'moist', 'mojo', 'mol', 'mold', 'molest', 'molin', 'mollusk', 'molyneux', 'mom', 'mombas', 'moment', 'momm', 'mommy', 'momo', 'mon', 'monarch', 'monast', 'monastery', 'monday', 'monet', 'money', 'mong', 'mongoos', 'monic', 'monit', 'monk', 'monkey', 'monogam', 'monogram', 'monopo', 'monro', 'monst', 'montagu', 'montan', 'montauk', 'month', 'mooch', 'mood', 'moody', 'moon', 'moonbeam', 'moonlight', 'moos', 'mooshilu', 'mop', 'mopey', 'mor', 'morbid', 'mord', 'moreso', 'morg', 'morganton', 'moriarty', 'moribund', 'morl', 'mormon', 'morn', 'moron', 'moros', 'morph', 'morrissey', 'morrow', 'morsel', 'mort', 'mortu', 'moshav', 'mosquito', 'moss', 'most', 'mot', 'motel', 'moth', 'motherland', 'motorbik', 'motorcyc', 'motorway', 'mou', 'mould', 'mound', 'mount', 'mountain', 'mourn', 'mous', 'mousav', 'mousekin', 'mouss', 'mouth', 'mouthfeel', 'mov', 'movign', 'movy', 'moxy', 'moz', 'mozzarell', 'mph', 'mr', 'mrdanbaird', 'mri', 'mrs', 'ms', 'msg', 'msm', 'mso', 'mt', 'mu', 'mua', 'muay', 'muaz', 'muc', 'much', 'muck', 'mud', 'mudblood', 'muddl', 'muddy', 'muffin', 'muffl', 'mug', 'mujahedin', 'mujh', 'mukerj', 'mul', 'mulatto', 'mullig', 'mult', 'multiband', 'multipl', 'multiplay', 'multiply', 'multitask', 'multitud', 'mum', 'mumba', 'mumbl', 'mummy', 'mun', 'munch', 'mund', 'munnabha', 'munro', 'mur', 'murakam', 'murd', 'murm', 'murrelet', 'murt', 'muru', 'mus', 'musc', 'muse', 'musel', 'museum', 'mush', 'mushroom', 'mushy', 'musicjuzz', 'muslim', 'must', 'mustard', 'musty', 'mut', 'muz', 'mxm', 'mychem', 'myelf', 'myriad', 'mysalvagedtreas', 'myspac', 'myst', 'mystery', 'myth', 'mytholog', 'na', 'nacho', 'nad', 'naeg', 'nag', 'nahariy', 'naight', 'nail', 'nailart', 'naiv', 'nak', 'nakahar', 'nal', 'nam', 'nameless', 'nan', 'nanash', 'nanny', 'nano', 'nant', 'nao', 'naom', 'nap', 'napkin', 'nar', 'narciss', 'narrow', 'nas', 'nashvil', 'nasty', 'nat', 'natash', 'nath', 'naught', 'naughty', 'naus', 'nause', 'nausea', 'navig', 'nay', 'nd', 'ne', 'neal', 'near', 'nearby', 'nearest', 'neat', 'necess', 'neck', 'necklac', 'ned', 'nee', 'needin', 'needl', 'needless', 'needy', 'neferet', 'neg', 'neglect', 'neglig', 'negoty', 'neighb', 'neighbo', 'neil', 'neith', 'nel', 'nemes', 'nemo', 'neol', 'neon', 'neoneun', 'nepal', 'nephew', 'nerd', 'nerdy', 'nerv', 'nes', 'ness', 'nest', 'nestl', 'nesty', 'net', 'netflix', 'netherland', 'network', 'neuropathy', 'neurosurgeon', 'neurot', 'neuroticworkahol', 'neut', 'nev', 'nevercont', 'nevermind', 'nevertheless', 'nevil', 'new', 'newborn', 'newby', 'newcom', 'newest', 'newrhinegargoyl', 'newspap', 'newsprint', 'newton', 'newtown', 'next', 'nfl', 'ng', 'nhs', 'ni', 'nibbl', 'nic', 'nicest', 'nich', 'nicholson', 'nick', 'nickey', 'nicknam', 'nico', 'nicol', 'nicotin', 'niec', 'nig', 'niger', 'nigg', 'niggl', 'night', 'nighthawk', 'nightl', 'nightm', 'nighty', 'nijifagy', 'nik', 'nikk', 'niko', 'nikola', 'nil', 'nin', 'nineteen', 'ninewest', 'nip', 'nippl', 'niss', 'nitch', 'nl', 'noah', 'nobl', 'nobody', 'nobu', 'noconscy', 'nod', 'noe', 'nofollow', 'nois', 'noisiest', 'noisy', 'nok', 'nol', 'nolong', 'nom', 'nomin', 'non', 'nonbipart', 'nonch', 'nonetheless', 'nonex', 'nonsens', 'nonstop', 'noob', 'noodl', 'nook', 'noon', 'nooo', 'noor', 'nor', 'norah', 'nordstrom', 'norm', 'normalcy', 'northern', 'northwestern', 'nos', 'noseband', 'nostalg', 'nostril', 'nosy', 'not', 'notch', 'notcy', 'notebook', 'noth', 'nothnig', 'nour', 'nouveau', 'nov', 'novel', 'novemb', 'nowaday', 'nowh', 'nowwwwww', 'nozom', 'npr', 'nthing', 'ntoward', 'nuant', 'nuclear', 'nud', 'nudg', 'nugget', 'nuh', 'num', 'numb', 'nupt', 'nurs', 'nursery', 'nurt', 'nut', 'nutrit', 'nutry', 'nutshel', 'nvm', 'nw', 'ny', 'nyc', 'nylon', 'nyp', 'nyquil', 'oak', 'oakland', 'oakwood', 'oatm', 'obam', 'obby', 'obedy', 'obero', 'obes', 'obey', 'object', 'obl', 'oblig', 'oblivy', 'obnoxy', 'obr', 'observ', 'obsess', 'obssess', 'obstac', 'obtain', 'obvy', 'oc', 'occ', 'occas', 'occass', 'occult', 'occup', 'occupy', 'occur', 'ocd', 'octob', 'od', 'odeon', 'odkh', 'odonnel', 'oesophag', 'off', 'offend', 'offens', 'offhand', 'offlin', 'offset', 'offspr', 'oft', 'oftentim', 'oh', 'ohio', 'oi', 'oil', 'oiut', 'ok', 'okay', 'okc', 'ol', 'olajideolafunmb', 'old', 'oldest', 'oliv', 'olivia', 'olu', 'olymp', 'om', 'omangy', 'omeg', 'omegl', 'omg', 'omin', 'omit', 'on', 'oncolog', 'onel', 'oneself', 'ongo', 'onlin', 'onlook', 'onscreen', 'onset', 'onto', 'ontolog', 'onward', 'oogl', 'oomph', 'oooh', 'oop', 'op', 'oper', 'opin', 'opinon', 'oppon', 'opportun', 'oppos', 'opposit', 'oppress', 'oppy', 'oprah', 'opt', 'optim', 'or', 'orang', 'orc', 'orchestr', 'ord', 'ordin', 'oregon', 'org', 'orgasm', 'orgy', 'origin', 'orihim', 'oriss', 'orl', 'orlando', 'orph', 'orthodont', 'orthodox', 'orthot', 'ory', 'osc', 'oscil', 'osp', 'osteopa', 'oth', 'otherw', 'ou', 'ought', 'ount', 'out', 'outbreak', 'outburst', 'outcast', 'outcom', 'outdid', 'outdo', 'outfit', 'outgo', 'outgrown', 'outland', 'outlet', 'outlook', 'outpo', 'outright', 'outro', 'outset', 'outsid', 'outsourc', 'outstand', 'outstretch', 'outt', 'outward', 'outweigh', 'ov', 'over', 'overal', 'overanalys', 'overboard', 'overcom', 'overcomet', 'overcommit', 'overcompens', 'overconfid', 'overdo', 'overdon', 'overdos', 'overeduc', 'overemot', 'overflow', 'overh', 'overhead', 'overhear', 'overjoy', 'overland', 'overlap', 'overload', 'overnight', 'overpow', 'overreact', 'overrrrrrrrrrr', 'overs', 'oversea', 'oversh', 'overshadow', 'overslept', 'overstep', 'overt', 'overtak', 'overthink', 'overton', 'overtook', 'overweight', 'overwhelm', 'overwork', 'ow', 'owl', 'own', 'oxbow', 'oxford', 'oxtail', 'oxyg', 'oz', 'pa', 'paak', 'pac', 'paceset', 'pack', 'packet', 'pacm', 'pacquiao', 'pad', 'padlock', 'paell', 'pag', 'pagetitl', 'pagetyp', 'pageview', 'paid', 'paig', 'pail', 'pain', 'painless', 'painstak', 'paint', 'pair', 'pajam', 'pajama', 'pak', 'pakistan', 'pal', 'palcebowh', 'palet', 'palin', 'palm', 'palp', 'pam', 'pamp', 'pan', 'pand', 'pandor', 'panel', 'pang', 'panick', 'panicky', 'panorm', 'pant', 'panth', 'panty', 'pap', 'papa', 'papamok', 'paparazz', 'papermakeupstamp', 'paperwork', 'par', 'parad', 'paragraph', 'parallel', 'paralys', 'paramilit', 'parano', 'paranoid', 'paranoiud', 'paraphras', 'paratroop', 'parcel', 'pariah', 'park', 'parl', 'parmes', 'parody', 'part', 'partak', 'partic', 'particip', 'particul', 'partit', 'partn', 'party', 'pas', 'pass', 'passeng', 'passerby', 'passersby', 'passport', 'past', 'pasta', 'pat', 'patagon', 'patch', 'patel', 'patern', 'path', 'pathet', 'patholog', 'patio', 'patrick', 'patrimony', 'patriot', 'patron', 'pattern', 'patty', 'paty', 'pau', 'paul', 'paulo', 'paus', 'pav', 'pavil', 'paw', 'pawn', 'pay', 'payday', 'payoff', 'payp', 'pb', 'pbss', 'pc', 'pcm', 'pe', 'pea', 'peac', 'peach', 'peachy', 'peak', 'peanut', 'pear', 'pearl', 'peasy', 'peck', 'ped', 'pedest', 'pedy', 'pee', 'peek', 'peel', 'peep', 'peer', 'peet', 'peg', 'peggy', 'peic', 'pelt', 'pelv', 'pen', 'pencil', 'pend', 'penet', 'penny', 'pent', 'penyer', 'peopl', 'pep', 'peppermint', 'per', 'perc', 'perceiv', 'perciev', 'percol', 'peregrino', 'perfect', 'perform', 'perfum', 'perhap', 'peril', 'period', 'perm', 'permalink', 'permit', 'perpet', 'perpetu', 'perplex', 'perry', 'persecut', 'perserv', 'persev', 'persist', 'persom', 'person', 'personnel', 'perspect', 'perspir', 'persuad', 'persuas', 'pertain', 'perus', 'pervas', 'pervers', 'pervert', 'pesach', 'pesky', 'pessim', 'pest', 'pesticid', 'pestil', 'pet', 'petit', 'petr', 'petrona', 'pettigrew', 'petty', 'pew', 'pg', 'pgce', 'phantomw', 'phas', 'phenom', 'phenomen', 'phenomenon', 'phew', 'phil', 'philadelph', 'philip', 'philippin', 'philosoph', 'philt', 'phob', 'phoenix', 'phon', 'photo', 'photograph', 'photoshoot', 'phrase', 'phrases', 'phyic', 'phys', 'physiolog', 'pi', 'pia', 'piano', 'pic', 'pick', 'pickl', 'pickup', 'picky', 'picn', 'picoult', 'pict', 'pidd', 'piddl', 'pie', 'piec', 'pierc', 'pig', 'pigeon', 'pil', 'pileon', 'pilf', 'pill', 'pillow', 'pilot', 'pimp', 'pimpl', 'pin', 'pinch', 'pineappl', 'pinewood', 'ping', 'pink', 'pinky', 'pinnac', 'pinot', 'pinpoint', 'pinterest', 'pio', 'pion', 'pip', 'pipsqueak', 'pir', 'piss', 'pissy', 'pistil', 'pistol', 'pit', 'pitch', 'pitocin', 'pittsburgh', 'pity', 'pix', 'pixy', 'pizz', 'plac', 'placc', 'plagu', 'plain', 'plan', 'planet', 'plank', 'plant', 'plast', 'plastik', 'plat', 'platea', 'plateau', 'platform', 'platitud', 'platon', 'play', 'playboy', 'playd', 'playground', 'playhousecom', 'playl', 'playoff', 'playroom', 'playwright', 'ple', 'plea', 'plead', 'pleas', 'pleeeeeeas', 'plein', 'plenty', 'plight', 'plod', 'plot', 'plow', 'ploy', 'plu', 'plug', 'plumb', 'plummet', 'plung', 'plur', 'plush', 'pluson', 'pluto', 'ply', 'pm', 'pms', 'pneumon', 'poach', 'pocket', 'pocketbook', 'pod', 'podcast', 'poem', 'poet', 'poetry', 'poggy', 'poign', 'point', 'pointless', 'pointy', 'poison', 'pok', 'pokemon', 'pol', 'polent', 'policem', 'policy', 'polit', 'pollicino', 'pollut', 'polo', 'polyam', 'polytechn', 'polyv', 'pomegr', 'pomp', 'pompom', 'pond', 'pony', 'poo', 'pool', 'poop', 'poor', 'pop', 'popcorn', 'popey', 'poppy', 'popul', 'por', 'porcelain', 'porch', 'porcupin', 'porgy', 'pork', 'porn', 'port', 'portfolio', 'portland', 'portrait', 'portray', 'portug', 'portugu', 'pos', 'posh', 'posit', 'poss', 'posses', 'possess', 'post', 'postcard', 'postgradu', 'posto', 'postpon', 'posy', 'pot', 'potato', 'pothol', 'potty', 'pouh', 'pound', 'pour', 'pout', 'poverty', 'pow', 'powd', 'powel', 'powerless', 'pp', 'ppl', 'pr', 'pra', 'pract', 'practicy', 'pragm', 'pram', 'prand', 'prank', 'prant', 'prawn', 'pray', 'pre', 'preach', 'preak', 'prebook', 'prec', 'preceiv', 'precid', 'precip', 'preclud', 'precy', 'pred', 'predawn', 'predecess', 'predica', 'predict', 'predomin', 'pref', 'prefac', 'prefer', 'preform', 'preg', 'pregn', 'prejud', 'prejudg', 'prelim', 'prem', 'premonit', 'pren', 'prep', 'prepost', 'prequel', 'pres', 'presc', 'preschool', 'prescrib', 'preserv', 'presid', 'press', 'pressy', 'prestig', 'prestigy', 'presum', 'presupposit', 'pretend', 'pretenty', 'prettiest', 'pretty', 'prettymuch', 'pretzel', 'prev', 'prevail', 'preview', 'prevy', 'prey', 'pri', 'pric', 'priceless', 'prick', 'prid', 'priest', 'priestess', 'prim', 'primetim', 'primit', 'princess', 'principl', 'print', 'priorit', 'prison', 'pristin', 'priv', 'privelleg', 'privileg', 'priz', 'prizecompetit', 'pro', 'prob', 'problem', 'problemn', 'proc', 'process', 'proclaim', 'procrastin', 'produc', 'profess', 'proff', 'profil', 'profit', 'profound', 'progeny', 'progesteron', 'program', 'progress', 'prohibit', 'project', 'prol', 'prolong', 'prom', 'promin', 'promot', 'prompt', 'pron', 'pronount', 'pronto', 'proof', 'prop', 'propagand', 'property', 'proplem', 'propon', 'proport', 'propos', 'pros', 'proscuito', 'prosecut', 'prosp', 'prospect', 'prostitut', 'protagon', 'protect', 'protein', 'protest', 'proto', 'protocol', 'proud', 'proudest', 'prov', 'provid', 'provint', 'provoc', 'provok', 'provokingbeauty', 'prowl', 'proxim', 'prud', 'prupos', 'pry', 'ps', 'psalm', 'psssh', 'psych', 'psychiatry', 'psycho', 'psycholog', 'psychopa', 'psychopatholog', 'psychot', 'pt', 'ptbertram', 'pti', 'ptk', 'ptl', 'ptpt', 'ptsd', 'pub', 'publ', 'pud', 'puff', 'pul', 'pulp', 'pulpit', 'puls', 'pump', 'pumpin', 'pumpkin', 'pun', 'punch', 'punct', 'pundit', 'punjab', 'punk', 'pupil', 'puppy', 'pur', 'purchas', 'pureland', 'purg', 'purpl', 'purpos', 'purposeless', 'purrr', 'purs', 'pursu', 'pursuit', 'push', 'pushov', 'pushy', 'pussy', 'put', 'puter', 'putrid', 'puzzl', 'px', 'pyongyang', 'qaf', 'qq', 'quak', 'qual', 'quant', 'quarrel', 'quart', 'que', 'queasy', 'queen', 'queezy', 'quel', 'quench', 'query', 'quest', 'questionnair', 'quick', 'quiet', 'quil', 'quilt', 'quiltcon', 'quin', 'quirky', 'quit', 'quiv', 'quixot', 'quo', 'quot', 'ra', 'rabbit', 'rabiol', 'rac', 'rach', 'rachel', 'racin', 'rack', 'rad', 'radio', 'rady', 'rafael', 'rafina', 'rag', 'raid', 'railway', 'rain', 'rainboot', 'rainbow', 'rainy', 'rais', 'ral', 'ramad', 'rammstein', 'ramp', 'ran', 'ranaut', 'ranbir', 'ranch', 'rand', 'random', 'randythoma', 'rang', 'rank', 'ransom', 'rant', 'rap', 'rapac', 'raphael', 'rapid', 'rapos', 'rapport', 'rapt', 'rar', 'rash', 'rat', 'ratbagx', 'rath', 'rattl', 'ratty', 'rav', 'raviol', 'raw', 'rawr', 'ray', 'raymond', 'raz', 'razzl', 'rd', 'reaaallyyyy', 'reach', 'react', 'read', 'readjust', 'readmit', 'ready', 'reaffirm', 'reag', 'real', 'realm', 'rear', 'rearrang', 'reason', 'reass', 'reaur', 'rebecc', 'rebekah', 'rebel', 'reboot', 'rebuild', 'rec', 'recal', 'receiv', 'recess', 'recharg', 'recip', 'reciproc', 'recit', 'reckless', 'reckon', 'recless', 'reclus', 'recogn', 'recognit', 'recollect', 'recommend', 'reconcil', 'recont', 'record', 'recount', 'recours', 'recov', 'recovery', 'recr', 'recruit', 'recur', 'recyc', 'red', 'redco', 'reddit', 'redeem', 'redesign', 'redhead', 'redic', 'redshank', 'reduc', 'redund', 'ree', 'reel', 'reelect', 'rees', 'reest', 'reevalu', 'reexplain', 'ref', 'refer', 'refin', 'reflect', 'reflex', 'refoc', 'refr', 'refrain', 'refram', 'refresh', 'refrig', 'refug', 'refus', 'reg', 'regain', 'regard', 'regardless', 'rego', 'regret', 'reground', 'regul', 'regurgit', 'regy', 'rehears', 'reid', 'reign', 'reil', 'reincarn', 'reinforc', 'reit', 'reject', 'rejo', 'rejuv', 'rekindl', 'rel', 'relax', 'releas', 'releg', 'relentless', 'relev', 'reliev', 'relig', 'religy', 'reloc', 'reluct', 'rely', 'remain', 'remaind', 'remark', 'remedy', 'rememb', 'remembery', 'remembr', 'remind', 'reminisc', 'remix', 'remodel', 'remors', 'remot', 'remours', 'remov', 'ren', 'renaiss', 'rend', 'rendal', 'renew', 'renov', 'renown', 'rent', 'rep', 'repair', 'repairm', 'repay', 'repercuss', 'repetet', 'repetit', 'rephras', 'repl', 'replac', 'replic', 'reply', 'report', 'repres', 'repress', 'repriev', 'reproduc', 'reprogram', 'republ', 'repuls', 'reput', 'request', 'requir', 'reread', 'res', 'rescu', 'reseach', 'research', 'resembl', 'reserv', 'reset', 'reshap', 'resid', 'residu', 'resign', 'resist', 'resolv', 'reson', 'resort', 'resourc', 'respect', 'respirometry', 'respond', 'respons', 'rest', 'resta', 'restart', 'restless', 'restrain', 'restrict', 'result', 'resum', 'resupply', 'resurrect', 'resy', 'ret', 'reta', 'retail', 'retain', 'retard', 'retart', 'retir', 'retort', 'retribut', 'retrofit', 'retrospect', 'return', 'reunit', 'reus', 'reut', 'rev', 'revalid', 'revamp', 'revealthestaryoutruly', 'revel', 'reveng', 'revenu', 'reverb', 'revers', 'revert', 'revid', 'review', 'revisit', 'revolv', 'revovl', 'revuls', 'revv', 'reward', 'rewind', 'rewrit', 'rex', 'rfttttttttttsjiowefmklldkavsvdsbtwrsbdvfocxfibjxrklrgrmvaeridubneosdvfrwfd', 'rhet', 'rhinebeck', 'rhym', 'rhythm', 'rib', 'ribbon', 'ribc', 'ric', 'rich', 'richard', 'richy', 'rid', 'ridgerun', 'ridic', 'rig', 'right', 'rigid', 'rihann', 'rikk', 'riku', 'ril', 'riley', 'ring', 'rington', 'rins', 'riot', 'riotousrambl', 'rip', 'rippl', 'ris', 'risk', 'risky', 'rit', 'ritalin', 'ritz', 'riv', 'rivalry', 'rlsh', 'rmb', 'road', 'roam', 'roar', 'roast', 'rob', 'robert', 'roberto', 'robin', 'robot', 'rock', 'rocket', 'rockst', 'rocky', 'rod', 'rodart', 'roethisberg', 'rol', 'rolex', 'rollercoast', 'rom', 'romcom', 'romeo', 'rommel', 'ron', 'roof', 'room', 'roost', 'root', 'ros', 'rosean', 'roslin', 'rost', 'rot', 'rotund', 'roug', 'rough', 'round', 'roundabout', 'rout', 'routin', 'row', 'roy', 'rpgs', 'rrreeaallyy', 'rt', 'rte', 'ruach', 'rub', 'rubbl', 'ruby', 'rucksack', 'rud', 'rudderless', 'rudley', 'rudolph', 'rudy', 'rue', 'ruf', 'ruffl', 'rugby', 'rugm', 'ruin', 'ruk', 'rul', 'rum', 'rumo', 'run', 'rundown', 'runne', 'runnin', 'runny', 'rup', 'rupa', 'rupt', 'rur', 'rush', 'rusl', 'russ', 'russel', 'rustl', 'rusty', 'rut', 'ruthless', 'rv', 'ryan', 'ryd', 'ryeowook', 'rylin', 'ryod', 'ryot', 'sab', 'sabot', 'sabrin', 'sachay', 'sachet', 'sack', 'sacr', 'sacra', 'sad', 'saddest', 'saddl', 'sadhan', 'sadlovequotesforhim', 'saf', 'sag', 'sai', 'said', 'sail', 'sailormoon', 'saint', 'sak', 'sal', 'salad', 'salon', 'saloon', 'salt', 'salut', 'salv', 'sam', 'samphir', 'sampl', 'samuel', 'san', 'sanct', 'sand', 'sandblog', 'sandpip', 'sandwich', 'sandy', 'sang', 'sangr', 'sant', 'sar', 'sarah', 'sarawak', 'sarcasm', 'sarcast', 'sarcoidos', 'sarcom', 'sardon', 'sash', 'sashy', 'saskatchew', 'sassy', 'sasuk', 'sat', 'satir', 'satisfact', 'satisfy', 'saturday', 'saty', 'sauc', 'saud', 'saun', 'saunt', 'saus', 'sav', 'savingyourmarriagebeforeitstart', 'savo', 'savy', 'saw', 'say', 'scab', 'scad', 'scafel', 'scal', 'scamp', 'scan', 'scand', 'scap', 'scar', 'scarc', 'scarecrow', 'scarf', 'scariest', 'scarlet', 'scary', 'scat', 'scaveng', 'sceiv', 'scen', 'scenario', 'scenery', 'scent', 'schach', 'schadenfreude', 'schalm', 'schaub', 'schedule', 'scheduled', 'scheduler', 'schedules', 'scheduling', 'scheme', 'schemes', 'schindlers', 'schizofrenic', 'schmidt', 'school', 'schoolboy', 'schoolgirl', 'schools', 'schultz', 'sci', 'sciatic', 'scientolog', 'scim', 'sciss', 'scoff', 'scold', 'scon', 'scoop', 'scop', 'scor', 'scorn', 'scorpio', 'scot', 'scotch', 'scotland', 'scotty', 'scout', 'scramble', 'scrap', 'scrapbook', 'scraped', 'scrapers', 'scratch', 'scratches', 'scratcheverything', 'scratchy', 'scream', 'screamed', 'screaming', 'screams', 'screeching', 'screen', 'screening', 'screenshot', 'screenshots', 'screenwriter', 'screenwriters', 'screw', 'screwed', 'scribble', 'script', 'scripture', 'scriptures', 'scroll', 'scrubbed', 'scrubbing', 'scruncher', 'scrunching', 'scrutiny', 'sculpt', 'scum', 'scummy', 'sd', 'se', 'sea', 'seafood', 'seagul', 'seal', 'seam', 'seamless', 'sean', 'search', 'season', 'seat', 'seattl', 'sebast', 'sec', 'second', 'secret', 'sect', 'sectret', 'seduc', 'see', 'seedy', 'seek', 'seem', 'seemad', 'seen', 'seep', 'seg', 'segreg', 'seiz', 'sel', 'selam', 'seldom', 'select', 'selen', 'self', 'selfless', 'sem', 'sembl', 'semest', 'semin', 'semipro', 'semuany', 'sen', 'send', 'seneg', 'senpa', 'sens', 'sensit', 'sensu', 'sent', 'sentinel', 'senty', 'seny', 'seo', 'sep', 'sepang', 'sephor', 'septemb', 'sequel', 'ser', 'serendip', 'serin', 'seriou', 'serioulsy', 'sermon', 'seroquel', 'serv', 'sery', 'sesam', 'sess', 'set', 'setback', 'seth', 'settl', 'setup', 'sev', 'seventy', 'sew', 'sex', 'sexahol', 'sexua', 'sexy', 'sf', 'sh', 'shack', 'shackl', 'shad', 'shadow', 'shaft', 'shahzad', 'shail', 'shak', 'shaky', 'shal', 'shallow', 'shalt', 'sham', 'shameless', 'shampoo', 'shand', 'shannon', 'shap', 'shapeshift', 'shar', 'shark', 'sharknado', 'sharp', 'sharpest', 'sharply', 'shat', 'shaun', 'shav', 'shawl', 'she', 'shed', 'sheep', 'sheet', 'shel', 'shelf', 'shelt', 'shelv', 'shenanig', 'sher', 'sheriff', 'shermin', 'shh', 'shhh', 'shhhhhhh', 'shi', 'shield', 'shift', 'shiftless', 'shifty', 'shim', 'shimmy', 'shin', 'shina', 'shinob', 'shiny', 'ship', 'shir', 'shiraish', 'shirley', 'shirt', 'shishido', 'shit', 'shitty', 'shiv', 'shizz', 'sho', 'shock', 'shoelac', 'shoeless', 'shona', 'shook', 'shoot', 'shop', 'shoplift', 'shor', 'short', 'shortcom', 'shortl', 'shortsight', 'shot', 'shoudlnt', 'should', 'shout', 'shov', 'shovel', 'show', 'showcas', 'shown', 'shred', 'shrinking', 'shroomery', 'shrouded', 'shrugged', 'shubh', 'shuffl', 'shun', 'shush', 'shut', 'shy', 'si', 'sibl', 'sic', 'sick', 'sid', 'sideb', 'sidelin', 'sidewalk', 'sieg', 'sient', 'siest', 'sift', 'sigan', 'sigh', 'sighhh', 'sight', 'sigil', 'sign', 'sii', 'sil', 'silhouet', 'silky', 'silv', 'sim', 'simil', 'simon', 'simpl', 'simplest', 'simplethoughtsonth', 'simply', 'simpson', 'simult', 'sin', 'sina', 'sing', 'singap', 'singl', 'singul', 'sink', 'sint', 'sinus', 'sip', 'sir', 'sis', 'sissy', 'sist', 'sistah', 'sit', 'sitcom', 'sith', 'situ', 'siwon', 'six', 'sixty', 'siz', 'sizzl', 'skat', 'skdd', 'ske', 'skelet', 'skeleton', 'skept', 'sketch', 'skew', 'ski', 'skid', 'skil', 'skillz', 'skillzz', 'skin', 'skinc', 'skinny', 'skinnyg', 'skip', 'skirt', 'skudr', 'skul', 'sky', 'skyp', 'sl', 'slack', 'slalom', 'slam', 'sland', 'slant', 'slap', 'slash', 'slat', 'slatebook', 'slav', 'slavery', 'sleazy', 'sled', 'sleek', 'sleep', 'sleepless', 'sleepov', 'sleepy', 'sleev', 'slept', 'slew', 'slic', 'slid', 'slight', 'slightest', 'slim', 'slink', 'slip', 'slit', 'slo', 'slobby', 'slog', 'slop', 'sloppy', 'sloshy', 'slouchy', 'slough', 'slow', 'slr', 'sls', 'slug', 'slum', 'slumb', 'slump', 'slung', 'slur', 'slut', 'slutty', 'slytherin', 'smack', 'smackdown', 'smal', 'smallest', 'smart', 'smartest', 'smarty', 'smash', 'smear', 'smel', 'smelt', 'smidg', 'smil', 'smiley', 'smirk', 'smit', 'smith', 'smok', 'smoo', 'smooch', 'smooth', 'smoothy', 'smoth', 'sms', 'smug', 'snack', 'snail', 'snak', 'snap', 'snapback', 'snappy', 'snar', 'snark', 'snarky', 'snatch', 'sneak', 'sneaky', 'sneez', 'sneh', 'snick', 'snidey', 'sniff', 'sniffl', 'sniiiiifff', 'snip', 'snippet', 'snippy', 'snob', 'snoop', 'snooty', 'snooz', 'snoozel', 'snor', 'snorkel', 'snotfac', 'snow', 'snowboard', 'snowglob', 'snowpe', 'snowy', 'snuck', 'snuffl', 'snug', 'snuggl', 'soak', 'soap', 'soapbox', 'sob', 'sobry', 'soc', 'socc', 'societ', 'sock', 'socket', 'socy', 'sod', 'sof', 'soft', 'softbal', 'softw', 'soil', 'sojourn', 'sol', 'solac', 'solberg', 'sold', 'soldy', 'solemn', 'soley', 'solicit', 'solid', 'solit', 'solitud', 'solo', 'solomon', 'solondz', 'solopgangf', 'solv', 'sombr', 'somebody', 'someday', 'somehow', 'someo', 'someobdy', 'someon', 'someplac', 'someth', 'somethign', 'sometim', 'someway', 'somewh', 'son', 'sonam', 'song', 'songy', 'sonipro', 'sonnet', 'sonogram', 'sony', 'soo', 'soon', 'sooo', 'soooo', 'sooooo', 'soooooooo', 'sooooooooooo', 'soooooooooooo', 'soooooooop', 'sooth', 'sop', 'soph', 'sophom', 'sor', 'sorbet', 'sorrow', 'sorry', 'sort', 'sou', 'sought', 'soul', 'soulbitesblog', 'souless', 'soulm', 'sound', 'soundscap', 'soundtrack', 'soup', 'sour', 'sourc', 'southern', 'sox', 'spa', 'spac', 'spacy', 'spaghett', 'spain', 'span', 'spar', 'spark', 'sparkl', 'sparkleappl', 'sparrow', 'sparsh', 'spasm', 'spat', 'spay', 'spazz', 'spazzol', 'speak', 'spec', 'special', 'specim', 'spect', 'spectac', 'spectr', 'specy', 'spee', 'speech', 'speechless', 'speedy', 'spel', 'spelt', 'spend', 'spent', 'spew', 'spic', 'spid', 'spiel', 'spik', 'spil', 'spin', 'spinach', 'spir', 'spirit', 'spit', 'spitak', 'spitbal', 'splash', 'splashes', 'splendid', 'splendor', 'split', 'splurge', 'spluttering', 'spock', 'spoil', 'spok', 'spons', 'spont', 'spook', 'spooky', 'spoon', 'spor', 'sporkgasm', 'sport', 'sportsbook', 'sportslin', 'spot', 'spotless', 'spotlight', 'spous', 'spout', 'spray', 'spread', 'spreading', 'spreads', 'spreadsheet', 'spring', 'springer', 'springhouse', 'springpad', 'springs', 'springy', 'sprinkling', 'sprint', 'spritz', 'spritzer', 'spruce', 'spur', 'spurg', 'spurn', 'spurt', 'spy', 'squ', 'squad', 'squash', 'squeak', 'squeek', 'squeez', 'squelch', 'squint', 'squirm', 'squirrel', 'squirt', 'src', 'srcurl', 'sri', 'ssba', 'ssr', 'sssas', 'st', 'stab', 'stabl', 'stacey', 'stack', 'stad', 'staff', 'stag', 'stagn', 'stain', 'stair', 'stak', 'stal', 'stalk', 'stam', 'stamford', 'stamp', 'stand', 'standard', 'standby', 'standout', 'stant', 'stanz', 'star', 'starbuck', 'start', 'startl', 'starv', 'stas', 'stash', 'stat', 'statesm', 'stav', 'stay', 'stayviol', 'ste', 'steady', 'steak', 'steam', 'steamy', 'steel', 'steep', 'stef', 'steinbeck', 'stell', 'stellar', 'stem', 'stench', 'step', 'stepchildr', 'stephany', 'stereotyp', 'steril', 'steroid', 'stev', 'stew', 'stewart', 'sti', 'stic', 'stick', 'sticky', 'stiff', 'stigm', 'stil', 'stiletto', 'stim', 'stimpy', 'sting', 'stingy', 'stink', 'stinkin', 'stinky', 'stip', 'stir', 'stitch', 'sto', 'stock', 'stol', 'stomach', 'ston', 'stood', 'stoop', 'stop', 'stor', 'storm', 'story', 'storylin', 'storytel', 'stoup', 'stpm', 'straddling', 'straight', 'straighten', 'straightener', 'straightforward', 'straightforwardness', 'strain', 'strained', 'strains', 'straits', 'stranded', 'strands', 'strange', 'strangely', 'stranger', 'strangers', 'strangling', 'strapped', 'strapping', 'strappy', 'strasbourg', 'strategic', 'strategies', 'strategy', 'strawberry', 'stray', 'strayed', 'streaked', 'streaky', 'stream', 'street', 'streets', 'strength', 'strengthen', 'strengthened', 'strengthening', 'strengths', 'stress', 'stressed', 'stresses', 'stressful', 'stressing', 'stressors', 'stretch', 'stretched', 'stretches', 'stretching', 'strewn', 'strick', 'strict', 'strictly', 'stride', 'strides', 'striding', 'strike', 'strikes', 'striking', 'string', 'strings', 'strip', 'stripes', 'stripped', 'stripping', 'strive', 'strives', 'stroke', 'strokes', 'stroll', 'stroller', 'strollers', 'strolling', 'strong', 'stronger', 'strongest', 'strongly', 'strop', 'stropped', 'struck', 'structural', 'structure', 'structured', 'structures', 'struff', 'struggle', 'struggled', 'struggles', 'struggling', 'strung', 'strutting', 'stsm', 'stub', 'stubborn', 'stuck', 'stuckin', 'stud', 'studio', 'study', 'stuff', 'stuffy', 'stumbl', 'stumbleupon', 'stump', 'stun', 'stunt', 'stup', 'stupend', 'stupid', 'sturdy', 'stut', 'styl', 'stylesheet', 'stymy', 'su', 'sub', 'subaru', 'subconscy', 'subcontin', 'subdu', 'subject', 'sublim', 'submarin', 'submerg', 'submit', 'subp', 'subs', 'subscrib', 'subsequ', 'subsid', 'subst', 'substitut', 'subt', 'subtl', 'suburb', 'subway', 'succ', 'success', 'succumb', 'sucess', 'suck', 'sucky', 'sud', 'sudah', 'sue', 'sued', 'suff', 'sufficy', 'suffoc', 'sug', 'suggest', 'suicid', 'suit', 'suitcas', 'sukkah', 'sulf', 'sulk', 'sum', 'summery', 'summit', 'sumthg', 'sun', 'sunda', 'sunday', 'sundry', 'sunlight', 'sunniest', 'sunny', 'sunr', 'sunset', 'sunshin', 'suomin', 'sup', 'superbik', 'superdrug', 'superduper', 'superf', 'superflu', 'superhero', 'superm', 'supermarket', 'superpow', 'supersensit', 'superstit', 'superstorm', 'superv', 'supervid', 'supery', 'suppl', 'supply', 'support', 'suppos', 'suppport', 'suppress', 'suprem', 'sur', 'surf', 'surfac', 'surg', 'surgeon', 'surgery', 'surm', 'surmount', 'surpr', 'surrend', 'surround', 'surv', 'survey', 'sus', 'susann', 'suscept', 'susp', 'suspect', 'suspend', 'suspens', 'suspicy', 'sustain', 'suuup', 'suzan', 'suzann', 'swa', 'swaddl', 'swag', 'swallow', 'swamp', 'swan', 'swap', 'swarm', 'swe', 'swear', 'sweatp', 'sweatshirt', 'sweaty', 'swed', 'sweeney', 'sweep', 'sweet', 'sweetheart', 'swel', 'swept', 'swift', 'swim', 'swimsuit', 'swimwear', 'swinelord', 'swing', 'swingset', 'swirl', 'switch', 'switzerland', 'swol', 'swoon', 'swor', 'sword', 'swung', 'sxe', 'sya', 'sycf', 'sylv', 'symbol', 'sympath', 'sympathet', 'sympathy', 'symptom', 'synchron', 'syndrom', 'synod', 'synonym', 'synthet', 'synthwav', 'syrup', 'system', 'ta', 'tab', 'tabby', 'tabl', 'tablet', 'tabloid', 'taboo', 'tackl', 'tacky', 'taco', 'tact', 'tad', 'taewuhbeoryeo', 'tag', 'tai', 'tail', 'taint', 'taiw', 'tak', 'takeaway', 'takeov', 'tal', 'talim', 'talk', 'tallest', 'tallin', 'tamp', 'tampon', 'tan', 'tang', 'tangl', 'tango', 'tank', 'tankoub', 'tant', 'tantr', 'tantrum', 'tap', 'target', 'tart', 'tartandheath', 'tartlet', 'tarun', 'taryn', 'task', 'tast', 'tasty', 'tat', 'tatsum', 'tattoo', 'taught', 'taunt', 'tax', 'tayl', 'taz', 'tbh', 'tbr', 'tbt', 'tch', 'tdy', 'te', 'tea', 'teach', 'team', 'teapot', 'tear', 'teary', 'teas', 'tec', 'tech', 'techfeel', 'techn', 'techno', 'technolog', 'ted', 'teddy', 'tedy', 'tee', 'teen', 'teensiest', 'teeny', 'teet', 'teh', 'tel', 'telegram', 'telephon', 'telephony', 'teleport', 'telethon', 'televid', 'telstr', 'temp', 'templ', 'tempo', 'tempt', 'tempur', 'ten', 'tend', 'teng', 'tens', 'tent', 'ter', 'terbutalin', 'teres', 'terlamb', 'term', 'termin', 'terminando', 'terp', 'terr', 'terrain', 'territ', 'terrr', 'terry', 'test', 'testic', 'testimony', 'teth', 'text', 'textil', 'tget', 'tgirl', 'tgt', 'th', 'tha', 'thackerey', 'thailand', 'thaim', 'thaliad', 'thang', 'thank', 'thankk', 'thanksg', 'thatrupert', 'thaw', 'the', 'thearchitect', 'thebalm', 'them', 'theo', 'theofilou', 'theolog', 'thep', 'thequeenbuzz', 'ther', 'therap', 'therapeut', 'therapy', 'thereby', 'theref', 'thereof', 'thes', 'theu', 'theybf', 'thi', 'thick', 'thief', 'thigh', 'thin', 'thing', 'thingy', 'think', 'third', 'thirsty', 'thirteen', 'thirty', 'thisisntcuteanym', 'thislifeissparkl', 'thk', 'thn', 'tho', 'thoma', 'thompson', 'thorough', 'thou', 'though', 'thought', 'thoughtless', 'thousand', 'thread', 'threads', 'threat', 'threaten', 'threatened', 'threatening', 'threats', 'three', 'threes', 'threw', 'thrift', 'thrifted', 'thrifty', 'thrill', 'thrilled', 'thrillers', 'thrilling', 'thrills', 'thrive', 'throat', 'throats', 'throbbing', 'throes', 'throne', 'throngs', 'throughout', 'throw', 'throwing', 'thrown', 'throws', 'thru', 'ths', 'thu', 'thug', 'thumb', 'thumbnail', 'thump', 'thund', 'thundershow', 'thunk', 'thursday', 'thwarted', 'thy', 'thyroid', 'ti', 'tia', 'tianjin', 'tibr', 'tic', 'tick', 'ticket', 'tickl', 'tid', 'tidbit', 'tidy', 'tie', 'tied', 'tier', 'tiffany', 'tig', 'tight', 'til', 'tilt', 'tim', 'timeless', 'timelin', 'times', 'timet', 'timid', 'timmy', 'tin', 'ting', 'tingl', 'tiniest', 'tinsel', 'tint', 'tiny', 'tip', 'tiphany', 'tir', 'tirad', 'tissu', 'tit', 'titan', 'tith', 'titl', 'tizzy', 'tl', 'tltg', 'tmr', 'tna', 'toast', 'toby', 'tod', 'today', 'todayyy', 'toddl', 'todo', 'tody', 'toe', 'toenail', 'tofurkey', 'togeht', 'togeth', 'toilet', 'tol', 'told', 'tom', 'tomato', 'tomfoolery', 'tommy', 'tomo', 'tomorrow', 'ton', 'tongu', 'tonguey', 'tonight', 'tonit', 'tonk', 'too', 'took', 'tool', 'toon', 'tootsy', 'top', 'tor', 'torch', 'torn', 'tornado', 'toronto', 'torso', 'tort', 'torward', 'toshibalol', 'toss', 'tot', 'tou', 'touch', 'touchy', 'tough', 'toughest', 'tought', 'toung', 'tour', 'touret', 'touristy', 'tourna', 'tout', 'tow', 'toward', 'towel', 'town', 'toxin', 'toy', 'tpt', 'trac', 'tracifishbowl', 'track', 'tract', 'tracy', 'trad', 'tradit', 'traff', 'traffick', 'trafford', 'trag', 'tragedy', 'trail', 'train', 'traips', 'trait', 'traject', 'tram', 'trampl', 'tran', 'tranny', 'tranquil', 'transcend', 'transcrib', 'transf', 'transfer', 'transform', 'transgend', 'transit', 'transl', 'translateth', 'transp', 'transpir', 'transport', 'transy', 'trap', 'trash', 'traum', 'trav', 'travel', 'travelog', 'travesty', 'tre', 'treach', 'treachery', 'tread', 'treadmil', 'treas', 'treass', 'trebl', 'trebuchet', 'trem', 'trembl', 'tremend', 'trend', 'trendy', 'trepid', 'trepidaty', 'tri', 'trial', 'triangl', 'trib', 'tribut', 'trick', 'trickery', 'tricky', 'trig', 'trigonometry', 'tril', 'trim', 'trimest', 'trin', 'trinket', 'trip', 'tripl', 'trit', 'triumph', 'triv', 'trolley', 'tromp', 'troop', 'trop', 'troph', 'trot', 'troubl', 'trous', 'tru', 'truck', 'trudg', 'truffl', 'truley', 'trumpet', 'trust', 'trustworthy', 'trusty', 'truth', 'try', 'tryin', 'tryst', 'tsa', 'tshirt', 'tsunam', 'tt', 'ttaekkaj', 'ttawin', 'ttc', 'tu', 'tub', 'tubelight', 'tuck', 'tucson', 'tud', 'tuesday', 'tug', 'tuit', 'tulip', 'tum', 'tumbl', 'tumblr', 'tummy', 'tun', 'tunj', 'tunnel', 'turb', 'turbil', 'turd', 'turk', 'turkey', 'turmoil', 'turn', 'turnip', 'turnout', 'turnov', 'turtl', 'tut', 'tuxedo', 'tv', 'twat', 'twd', 'tweedy', 'tween', 'tweet', 'twelv', 'twenty', 'twentysometh', 'twic', 'twiggy', 'twin', 'twing', 'twist', 'twit', 'twitch', 'twitchy', 'two', 'twosong', 'twoyear', 'tx', 'txl', 'ty', 'tychel', 'tyl', 'typ', 'tyr', 'ua', 'ub', 'ubuntu', 'ufc', 'ug', 'ugand', 'ugh', 'ugliest', 'uh', 'uhm', 'uhuru', 'uk', 'ukrain', 'ulbujitneun', 'ult', 'ultim', 'ultralight', 'ultrasound', 'ulyss', 'um', 'umbrell', 'umlungu', 'un', 'unacceiv', 'unafraid', 'unam', 'unapprecy', 'unattain', 'unattract', 'unavoid', 'unaw', 'unbear', 'unbeliev', 'unbound', 'unbreak', 'unc', 'uncanny', 'uncertain', 'uncertainty', 'uncharact', 'unchart', 'unclear', 'uncoil', 'uncomfort', 'uncomfterbl', 'uncommit', 'uncommon', 'uncompos', 'unconcern', 'uncondit', 'unconform', 'unconscy', 'uncontrol', 'unconvint', 'und', 'undec', 'undefin', 'undeny', 'under', 'underapprecy', 'underbel', 'undercur', 'underestim', 'undergo', 'undergradu', 'underground', 'underlin', 'undernea', 'underpaid', 'understad', 'understand', 'understood', 'undertak', 'underton', 'underw', 'underway', 'underwear', 'underwhelm', 'undeserv', 'undesir', 'undevelop', 'undiscov', 'undo', 'undon', 'undoubt', 'undress', 'undu', 'unduty', 'unearth', 'uneas', 'uneasy', 'unedit', 'uneffect', 'unemot', 'unemploy', 'unencumb', 'unev', 'unexpect', 'unexplain', 'unfair', 'unfaith', 'unfash', 'unfathom', 'unfeel', 'unfin', 'unfit', 'unfocus', 'unfold', 'unfollow', 'unforget', 'unfortun', 'unfound', 'unfriend', 'unfulfil', 'unfurl', 'ungod', 'ungr', 'unh', 'unhappy', 'unhealthy', 'unheard', 'unibrow', 'uniform', 'unil', 'unimagin', 'unimport', 'uninform', 'uninhabit', 'uninspir', 'uninstal', 'unint', 'unintellig', 'unintend', 'uninterest', 'unit', 'univers', 'unjust', 'unkind', 'unknown', 'unleash', 'unless', 'unlik', 'unlock', 'unlov', 'unlucky', 'unmitig', 'unmot', 'unnecess', 'unnot', 'unpaid', 'unpav', 'unplan', 'unpleas', 'unpopul', 'unpredict', 'unprep', 'unpress', 'unproduc', 'unprofess', 'unprotect', 'unr', 'unravel', 'unreason', 'unrel', 'unrely', 'unresolv', 'unrespond', 'unrest', 'unreward', 'uns', 'unsaf', 'unsatisfy', 'unsav', 'unseen', 'unsettl', 'unsheath', 'unsimil', 'unsolv', 'unsoph', 'unspeak', 'unspec', 'unspoilt', 'unst', 'unsteady', 'unsuccess', 'unsuit', 'unsung', 'unsuperv', 'unsupport', 'unsurpr', 'unsuspect', 'unt', 'untidy', 'untouch', 'untrustworthy', 'untry', 'unus', 'unw', 'unwar', 'unwash', 'unwel', 'unwelcom', 'unwil', 'unwind', 'unwit', 'unworthy', 'unz', 'up', 'upb', 'upbr', 'upcom', 'upd', 'upfront', 'upgrad', 'upheav', 'upholst', 'uplift', 'upload', 'upon', 'upright', 'upset', 'upsid', 'upstair', 'upstream', 'uptight', 'ur', 'urb', 'urbanit', 'urg', 'urgh', 'urin', 'url', 'uruk', 'us', 'usain', 'usd', 'useless', 'ush', 'usmleasy', 'ut', 'utah', 'utf', 'util', 'utmost', 'utop', 'uuuugh', 'uv', 'uw', 'uwilnevrknow', 'va', 'vac', 'vagin', 'vagu', 'vain', 'val', 'valentin', 'valentino', 'valery', 'valid', 'valu', 'vampir', 'van', 'vancouv', 'vanill', 'vanqu', 'vant', 'vap', 'var', 'varn', 'vars', 'varvel', 'vary', 'vas', 'vast', 'vaughn', 'vault', 'vbac', 'veer', 'veg', 'vega', 'veget', 'veggy', 'vegit', 'veh', 'vehic', 'veil', 'vein', 'veld', 'vella', 'veloc', 'velvet', 'ven', 'vend', 'veng', 'venison', 'venom', 'vent', 'venu', 'ver', 'verb', 'verdict', 'verg', 'verizon', 'vermont', 'veron', 'verrrrrrrryyyy', 'vers', 'vert', 'vertigo', 'veryy', 'ves', 'vessel', 'vest', 'vet', 'veterin', 'vex', 'vey', 'via', 'vib', 'vibr', 'vic', 'vict', 'victim', 'victor', 'vicy', 'video', 'videotap', 'vienn', 'vietnam', 'vietnames', 'view', 'viewpoint', 'vig', 'vigil', 'vil', 'vin', 'vindict', 'vineg', 'vinem', 'viniagret', 'vinny', 'vint', 'viol', 'violin', 'vip', 'vir', 'virgin', 'virt', 'virtu', 'vis', 'visit', 'vist', 'vit', 'vitamin', 'vivek', 'vivid', 'vivien', 'vivr', 'vj', 'vlog', 'vm', 'voc', 'vocab', 'vocref', 'vog', 'voic', 'voicesfromkrypton', 'void', 'voip', 'vol', 'volum', 'volunt', 'volvo', 'vom', 'vomit', 'von', 'vortex', 'vot', 'vow', 'voy', 'vs', 'vt', 'vuitton', 'vulg', 'vuln', 'vult', 'vun', 'wa', 'waaaaayyyy', 'wacky', 'wad', 'waddl', 'waft', 'wag', 'wagon', 'wah', 'wail', 'wainwright', 'waist', 'waistlin', 'wait', 'waitros', 'wak', 'wakeup', 'wal', 'waldo', 'walee', 'walk', 'wallet', 'wallow', 'wallpap', 'walmart', 'walr', 'walt', 'wan', 'wanatrib', 'wand', 'wanderlust', 'want', 'wantd', 'wantig', 'wap', 'war', 'ward', 'wardrob', 'wardrod', 'wareh', 'warfight', 'warhound', 'warm', 'warmest', 'warn', 'warp', 'warrick', 'warry', 'warsaw', 'wary', 'wash', 'washington', 'washroom', 'wast', 'wat', 'watch', 'watermelon', 'watersid', 'wav', 'wax', 'way', 'wayn', 'wd', 'weak', 'weakest', 'weal', 'wealthy', 'wean', 'weapon', 'wear', 'weary', 'weath', 'weatherm', 'weav', 'web', 'webkit', 'webm', 'webp', 'websit', 'wed', 'wednesday', 'wee', 'week', 'weekday', 'weekend', 'weeny', 'weep', 'weepy', 'weigh', 'weighin', 'weight', 'weightless', 'weightloss', 'weinstein', 'weird', 'weirdest', 'weirdo', 'weism', 'wel', 'welcom', 'welf', 'wen', 'wendy', 'went', 'wept', 'wern', 'wesley', 'west', 'western', 'westwood', 'wet', 'wettest', 'wh', 'whack', 'whal', 'whatev', 'whatnot', 'whatsoev', 'whe', 'wheel', 'whelm', 'whenev', 'wherea', 'whereby', 'wheref', 'wherein', 'wherev', 'wherewith', 'wheth', 'whiff', 'whilst', 'whim', 'whimp', 'whims', 'whin', 'whiney', 'whing', 'whiny', 'whip', 'whir', 'whirlwind', 'whisk', 'whiskey', 'whisp', 'whistl', 'whit', 'whitley', 'whitney', 'whizz', 'whoev', 'whol', 'wholeheart', 'wholes', 'whooooo', 'whooooooooo', 'whoop', 'whoosh', 'whor', 'whos', 'wi', 'wick', 'wickd', 'wid', 'widget', 'widow', 'wieght', 'wield', 'wierd', 'wif', 'wig', 'wiggl', 'wiggy', 'wiheomha', 'wihtout', 'wik', 'wil', 'wilcfry', 'wild', 'wildl', 'wildst', 'william', 'wilt', 'wimbledon', 'wimp', 'wimpy', 'win', 'wind', 'windmil', 'window', 'windy', 'wineh', 'winetast', 'winey', 'wing', 'wink', 'winston', 'wint', 'winterpaysforsum', 'winterson', 'wintry', 'wip', 'wir', 'wireless', 'wis', 'wisconsin', 'wisdom', 'wish', 'wispy', 'wist', 'wit', 'witch', 'with', 'withdraw', 'withdrawn', 'within', 'without', 'withstand', 'witless', 'witnes', 'witty', 'wiv', 'wiz', 'wizard', 'wnat', 'wo', 'woah', 'wobbl', 'wod', 'woe', 'wok', 'wolfiewolfgang', 'wom', 'womb', 'wond', 'wonderful', 'wonderland', 'wondr', 'woo', 'wood', 'woodland', 'woodstock', 'woodston', 'woody', 'woooo', 'woop', 'wor', 'word', 'work', 'workahol', 'workload', 'workm', 'workout', 'workplac', 'workshop', 'world', 'worm', 'worn', 'worry', 'wors', 'worst', 'worthless', 'worthwhil', 'worthy', 'wot', 'wotc', 'would', 'wound', 'wov', 'wow', 'wp', 'wrap', 'wreak', 'wreck', 'wrestl', 'wretch', 'wrinkl', 'wrist', 'wristwatch', 'writ', 'writin', 'wrong', 'wrot', 'wrung', 'wry', 'ws', 'wt', 'wtf', 'wth', 'wu', 'wushu', 'wuss', 'ww', 'wwi', 'www', 'wyat', 'xanax', 'xango', 'xbla', 'xd', 'xdd', 'xel', 'xelliealicex', 'xer', 'xia', 'xiao', 'xl', 'xma', 'xml', 'xox', 'xs', 'xvi', 'xvii', 'xx', 'xxx', 'ya', 'yahoo', 'yang', 'yank', 'yard', 'yarn', 'yash', 'yatsur', 'yawn', 'yawwwn', 'yay', 'ye', 'yeah', 'year', 'yearbook', 'yearn', 'years', 'yeast', 'yel', 'yellow', 'yelp', 'yer', 'yesterday', 'yesuba', 'yet', 'yhhhay', 'yil', 'yin', 'yip', 'yixu', 'yk', 'yknow', 'yo', 'yog', 'yoghurt', 'yogurt', 'yok', 'yom', 'york', 'yorkshir', 'yoshida', 'you', 'young', 'youngest', 'youngst', 'youth', 'youtub', 'ytear', 'yu', 'yuck', 'yummy', 'yunho', 'yup', 'yuruse', 'yuuk', 'zach', 'zack', 'zackmdav', 'zamb', 'zan', 'zap', 'zar', 'zay', 'zayn', 'zealand', 'zen', 'zend', 'zendik', 'zeno', 'zero', 'zest', 'zhu', 'zhuo', 'zico', 'zimbabw', 'zimmerm', 'zin', 'ziplin', 'ziplock', 'zjs', 'zofr', 'zol', 'zomby', 'zon', 'zonisamid', 'zoo', 'zoom', 'zq', 'zucchin', 'zum', 'zumb', 'zz']\n",
            "<zip object at 0x7f86f1ca3eb0>\n",
            "humy 0.9887708368941819\n",
            "feel 0.14943972734041913\n"
          ],
          "name": "stdout"
        }
      ]
    },
    {
      "cell_type": "markdown",
      "metadata": {
        "id": "bFi48q-G5kn6"
      },
      "source": [
        "## final dataset after modification"
      ]
    },
    {
      "cell_type": "code",
      "metadata": {
        "colab": {
          "base_uri": "https://localhost:8080/",
          "height": 158
        },
        "id": "MaP1D1hqmec_",
        "outputId": "301b4ab1-ba29-4c23-dc58-511f07071b84"
      },
      "source": [
        "train_final = processed_df[['content', 'sentiment']]\n",
        "print(\"Train DataFrame\")\n",
        "display(train_final.head(3))"
      ],
      "execution_count": null,
      "outputs": [
        {
          "output_type": "stream",
          "text": [
            "Train DataFrame\n"
          ],
          "name": "stdout"
        },
        {
          "output_type": "display_data",
          "data": {
            "text/html": [
              "<div>\n",
              "<style scoped>\n",
              "    .dataframe tbody tr th:only-of-type {\n",
              "        vertical-align: middle;\n",
              "    }\n",
              "\n",
              "    .dataframe tbody tr th {\n",
              "        vertical-align: top;\n",
              "    }\n",
              "\n",
              "    .dataframe thead th {\n",
              "        text-align: right;\n",
              "    }\n",
              "</style>\n",
              "<table border=\"1\" class=\"dataframe\">\n",
              "  <thead>\n",
              "    <tr style=\"text-align: right;\">\n",
              "      <th></th>\n",
              "      <th>content</th>\n",
              "      <th>sentiment</th>\n",
              "    </tr>\n",
              "  </thead>\n",
              "  <tbody>\n",
              "    <tr>\n",
              "      <th>0</th>\n",
              "      <td>feel humy</td>\n",
              "      <td>sadness</td>\n",
              "    </tr>\n",
              "    <tr>\n",
              "      <th>1</th>\n",
              "      <td>go feel hopeless damn hop around someon car awak</td>\n",
              "      <td>sadness</td>\n",
              "    </tr>\n",
              "    <tr>\n",
              "      <th>2</th>\n",
              "      <td>grab minut post feel greedy wrong</td>\n",
              "      <td>anger</td>\n",
              "    </tr>\n",
              "  </tbody>\n",
              "</table>\n",
              "</div>"
            ],
            "text/plain": [
              "                                            content sentiment\n",
              "0                                         feel humy   sadness\n",
              "1  go feel hopeless damn hop around someon car awak   sadness\n",
              "2                 grab minut post feel greedy wrong     anger"
            ]
          },
          "metadata": {}
        }
      ]
    },
    {
      "cell_type": "markdown",
      "metadata": {
        "id": "Cc9ksIvZ5qUG"
      },
      "source": [
        "## implementing X and Y from dataset"
      ]
    },
    {
      "cell_type": "code",
      "metadata": {
        "colab": {
          "base_uri": "https://localhost:8080/"
        },
        "id": "-yruVhzlmCgw",
        "outputId": "9dfdc26b-4ad1-45ea-b762-4aa1fb4f851f"
      },
      "source": [
        "le = LabelEncoder()\n",
        "train_final['sentiment'] = le.fit_transform(train_final['sentiment'])\n",
        "df = train_final\n",
        "x=text_tf;\n",
        "y =df[target]\n",
        "print(x);\n",
        "print(y);"
      ],
      "execution_count": null,
      "outputs": [
        {
          "output_type": "stream",
          "text": [
            "  (0, 3790)\t0.9887708368941819\n",
            "  (0, 2831)\t0.14943972734041913\n",
            "  (1, 523)\t0.46178992909906097\n",
            "  (1, 1144)\t0.3082302136904785\n",
            "  (1, 7372)\t0.31010387986299726\n",
            "  (1, 401)\t0.29894036291948733\n",
            "  (1, 3727)\t0.3078216376112891\n",
            "  (1, 1863)\t0.4174527497611846\n",
            "  (1, 3728)\t0.39055737317846706\n",
            "  (1, 3290)\t0.28448214069666655\n",
            "  (1, 2831)\t0.06106005959868465\n",
            "  (2, 9052)\t0.40289757740348864\n",
            "  (2, 3369)\t0.4465981335395167\n",
            "  (2, 6121)\t0.37675016104830594\n",
            "  (2, 5073)\t0.4524839559131989\n",
            "  (2, 3331)\t0.535449905992907\n",
            "  (2, 2831)\t0.06953152669706454\n",
            "  (3, 6260)\t0.5620279136779821\n",
            "  (3, 7591)\t0.2640243957860789\n",
            "  (3, 4420)\t0.23783507852640226\n",
            "  (3, 2896)\t0.5756764488135656\n",
            "  (3, 5487)\t0.40609155886652415\n",
            "  (3, 2651)\t0.24019983200164655\n",
            "  (3, 2831)\t0.061972017104901564\n",
            "  (4, 3397)\t0.9908320540165291\n",
            "  :\t:\n",
            "  (17996, 5361)\t0.4553167388182938\n",
            "  (17996, 2234)\t0.4897336508169255\n",
            "  (17996, 1729)\t0.42471965653754995\n",
            "  (17996, 4670)\t0.2647756462670154\n",
            "  (17996, 2831)\t0.0651165776551642\n",
            "  (17997, 68)\t0.5828679574518411\n",
            "  (17997, 3252)\t0.40970982488881386\n",
            "  (17997, 5880)\t0.3411820320705604\n",
            "  (17997, 8618)\t0.3508668388900098\n",
            "  (17997, 3364)\t0.4754879336436001\n",
            "  (17997, 2831)\t0.16371105913887046\n",
            "  (17998, 2015)\t0.6183147711306709\n",
            "  (17998, 1524)\t0.4040570453816427\n",
            "  (17998, 7576)\t0.4637576340297485\n",
            "  (17998, 8063)\t0.3461768701865161\n",
            "  (17998, 7553)\t0.31648309699085364\n",
            "  (17998, 2831)\t0.13911731964481938\n",
            "  (17999, 8006)\t0.4172198256427022\n",
            "  (17999, 8866)\t0.32003309337530866\n",
            "  (17999, 2757)\t0.6521841550689902\n",
            "  (17999, 4962)\t0.3582227025165161\n",
            "  (17999, 7911)\t0.2966534716486094\n",
            "  (17999, 5880)\t0.23485506088879288\n",
            "  (17999, 4633)\t0.15330924593840414\n",
            "  (17999, 2831)\t0.056345831767419426\n",
            "0        4\n",
            "1        4\n",
            "2        0\n",
            "3        2\n",
            "4        0\n",
            "        ..\n",
            "17995    0\n",
            "17996    0\n",
            "17997    3\n",
            "17998    3\n",
            "17999    1\n",
            "Name: sentiment, Length: 18000, dtype: int64\n"
          ],
          "name": "stdout"
        },
        {
          "output_type": "stream",
          "text": [
            "/usr/local/lib/python3.7/dist-packages/ipykernel_launcher.py:2: SettingWithCopyWarning: \n",
            "A value is trying to be set on a copy of a slice from a DataFrame.\n",
            "Try using .loc[row_indexer,col_indexer] = value instead\n",
            "\n",
            "See the caveats in the documentation: https://pandas.pydata.org/pandas-docs/stable/user_guide/indexing.html#returning-a-view-versus-a-copy\n",
            "  \n"
          ],
          "name": "stderr"
        }
      ]
    },
    {
      "cell_type": "markdown",
      "metadata": {
        "id": "mS0XevI351NN"
      },
      "source": [
        "## model libraries"
      ]
    },
    {
      "cell_type": "code",
      "metadata": {
        "id": "8UgSps1wM8ro"
      },
      "source": [
        "import os\n",
        "import numpy as np\n",
        "import torch\n",
        "from torch import nn\n",
        "from torch.nn import functional as F\n",
        "import torchvision as tv\n",
        "import pandas as pd\n",
        "from PIL import Image\n",
        "from matplotlib import pyplot as plt\n",
        "import socket\n",
        "import getpass\n",
        "\n",
        "import time\n",
        "import codecs\n",
        "import json\n",
        "import re\n",
        "from collections import defaultdict\n",
        "from nltk.stem.porter import *\n",
        "import string\n",
        "from nltk.tokenize import word_tokenize\n",
        "import shutil\n",
        "\n",
        "import torch.nn as nn\n",
        "from torch.autograd import Variable\n",
        "\n",
        "import torch.utils.data as data\n",
        "from sklearn.preprocessing import LabelEncoder"
      ],
      "execution_count": null,
      "outputs": []
    },
    {
      "cell_type": "markdown",
      "metadata": {
        "id": "O-jhgzpJ55pl"
      },
      "source": [
        "## oversampling Adasyn"
      ]
    },
    {
      "cell_type": "code",
      "metadata": {
        "id": "weCo1OoznTn6"
      },
      "source": [
        "from imblearn.over_sampling import SMOTE, ADASYN"
      ],
      "execution_count": null,
      "outputs": []
    },
    {
      "cell_type": "markdown",
      "metadata": {
        "id": "F9KtPIkS5-mB"
      },
      "source": [
        "## Adasyn implementation to increase minority class data"
      ]
    },
    {
      "cell_type": "code",
      "metadata": {
        "colab": {
          "base_uri": "https://localhost:8080/"
        },
        "id": "-cDLQnQ1nTya",
        "outputId": "edda5a9e-737d-427c-b47f-e59f089b4d74"
      },
      "source": [
        "adasyn_over_sample = ADASYN(random_state=11, n_neighbors=5,sampling_strategy='minority')\n",
        "\n",
        "print(f\"Initial set observations {x.shape[0]}\")\n",
        "print(f\"Initial set target classes {len(set(y))}\")\n",
        "x_ada, y_ada = adasyn_over_sample.fit_resample(x, y)\n",
        "print(f\"Modified set observations {x_ada.shape[0]}\")\n",
        "print(f\"Modified set target classes {len(set(y_ada))}\")"
      ],
      "execution_count": null,
      "outputs": [
        {
          "output_type": "stream",
          "text": [
            "Initial set observations 18000\n",
            "Initial set target classes 6\n"
          ],
          "name": "stdout"
        },
        {
          "output_type": "stream",
          "text": [
            "/usr/local/lib/python3.7/dist-packages/sklearn/utils/deprecation.py:87: FutureWarning: Function safe_indexing is deprecated; safe_indexing is deprecated in version 0.22 and will be removed in version 0.24.\n",
            "  warnings.warn(msg, category=FutureWarning)\n"
          ],
          "name": "stderr"
        },
        {
          "output_type": "stream",
          "text": [
            "Modified set observations 23472\n",
            "Modified set target classes 6\n"
          ],
          "name": "stdout"
        }
      ]
    },
    {
      "cell_type": "markdown",
      "metadata": {
        "id": "1IoeGLvM6HIN"
      },
      "source": [
        "## normalize oversampled X data"
      ]
    },
    {
      "cell_type": "code",
      "metadata": {
        "colab": {
          "base_uri": "https://localhost:8080/"
        },
        "id": "L3YTKDP6ndIc",
        "outputId": "b7782894-5e85-4938-a92d-4924cd105805"
      },
      "source": [
        "from sklearn.preprocessing import normalize\n",
        "x_ada_norm = normalize(x_ada);\n",
        "print(x_ada_norm);\n"
      ],
      "execution_count": null,
      "outputs": [
        {
          "output_type": "stream",
          "text": [
            "  (0, 3790)\t0.9887708368941821\n",
            "  (0, 2831)\t0.14943972734041916\n",
            "  (1, 523)\t0.46178992909906097\n",
            "  (1, 1144)\t0.3082302136904785\n",
            "  (1, 7372)\t0.31010387986299726\n",
            "  (1, 401)\t0.29894036291948733\n",
            "  (1, 3727)\t0.3078216376112891\n",
            "  (1, 1863)\t0.4174527497611846\n",
            "  (1, 3728)\t0.39055737317846706\n",
            "  (1, 3290)\t0.28448214069666655\n",
            "  (1, 2831)\t0.06106005959868465\n",
            "  (2, 9052)\t0.4028975774034887\n",
            "  (2, 3369)\t0.4465981335395168\n",
            "  (2, 6121)\t0.376750161048306\n",
            "  (2, 5073)\t0.45248395591319895\n",
            "  (2, 3331)\t0.5354499059929071\n",
            "  (2, 2831)\t0.06953152669706456\n",
            "  (3, 6260)\t0.5620279136779821\n",
            "  (3, 7591)\t0.2640243957860789\n",
            "  (3, 4420)\t0.23783507852640226\n",
            "  (3, 2896)\t0.5756764488135656\n",
            "  (3, 5487)\t0.40609155886652415\n",
            "  (3, 2651)\t0.24019983200164655\n",
            "  (3, 2831)\t0.061972017104901564\n",
            "  (4, 3397)\t0.9908320540165291\n",
            "  :\t:\n",
            "  (23469, 2762)\t0.10865117256016237\n",
            "  (23469, 2831)\t0.07882376596881664\n",
            "  (23469, 5855)\t0.5584669596469242\n",
            "  (23469, 7591)\t0.256131550788904\n",
            "  (23469, 7630)\t0.4462119159166195\n",
            "  (23469, 7899)\t0.457313454548461\n",
            "  (23469, 8917)\t0.4430037817851662\n",
            "  (23470, 2831)\t0.06783517653770056\n",
            "  (23470, 4388)\t0.02625987735126721\n",
            "  (23470, 5855)\t0.5809730349000807\n",
            "  (23470, 7591)\t0.2664535865999522\n",
            "  (23470, 7630)\t0.384006824812254\n",
            "  (23470, 7899)\t0.4757430694872851\n",
            "  (23470, 8917)\t0.4608567205813904\n",
            "  (23471, 1894)\t0.20093103067097556\n",
            "  (23471, 2831)\t0.08918618452267271\n",
            "  (23471, 5203)\t0.29763443473887086\n",
            "  (23471, 5600)\t0.2016746435187885\n",
            "  (23471, 5855)\t0.3821534397423872\n",
            "  (23471, 6443)\t0.1734916898019789\n",
            "  (23471, 7591)\t0.3799671138863411\n",
            "  (23471, 7630)\t0.5048723285423657\n",
            "  (23471, 7899)\t0.3129350925373599\n",
            "  (23471, 8063)\t0.23911881377961147\n",
            "  (23471, 8917)\t0.3031431244117283\n"
          ],
          "name": "stdout"
        }
      ]
    },
    {
      "cell_type": "markdown",
      "metadata": {
        "id": "5Ha5138mOp18"
      },
      "source": [
        "##  Attention Model"
      ]
    },
    {
      "cell_type": "code",
      "metadata": {
        "id": "gQzwS_bBOXIa"
      },
      "source": [
        "class AttentionNet(nn.Module):\n",
        "    def __init__(self, num_classes, batch_size, input_features, output_features):\n",
        "        \n",
        "        super(AttentionNet,self).__init__()\n",
        "        self.input_features = input_features\n",
        "        self.output_features = output_features #k \n",
        "        self.num_classes = num_classes\n",
        "        self.batch_size = batch_size\n",
        "        \n",
        "        self.image1 = nn.Linear(input_features, output_features, bias=False)\n",
        "        self.question1 = nn.Linear(input_features, output_features)\n",
        "        self.attention1 = nn.Linear(output_features, 1)\n",
        "        \n",
        "        self.image2 = nn.Linear(input_features, output_features, bias=False)\n",
        "        self.question2 = nn.Linear(input_features, output_features)\n",
        "        self.attention2 = nn.Linear(output_features, 1)\n",
        "        \n",
        "        self.answer_dist = nn.Linear(input_features, self.num_classes)\n",
        "                \n",
        "        self.tanh = nn.Tanh()\n",
        "        self.softmax = nn.Softmax(dim=1)\n",
        "        self.dropout = nn.Dropout(0.5)\n",
        "        \n",
        "    def forward(self, image, question):\n",
        "    \n",
        "        irep_1 = self.image1(image)\n",
        "        qrep_1 = self.question1(question).unsqueeze(dim=1)\n",
        "        ha_1 = self.tanh(irep_1 + qrep_1)\n",
        "        ha_1 = self.dropout(ha_1)\n",
        "        pi_1 = self.softmax(self.attention1(ha_1))\n",
        "        u_1 = (pi_1 * image).sum(dim=1) + question\n",
        "        \n",
        "        irep_2 = self.image2(image)\n",
        "        qrep_2 = self.question2(u_1).unsqueeze(dim=1)\n",
        "        ha_2 = self.tanh(irep_2 + qrep_2)\n",
        "        ha_2 = self.dropout(ha_2)\n",
        "        pi_2 = self.softmax(self.attention2(ha_2))\n",
        "        u_2 = (pi_2 * image).sum(dim=1) + u_1\n",
        "      \n",
        "        h=self.dropout(u_2);\n",
        "\n",
        "        w_u = self.answer_dist(h)\n",
        "\n",
        "        return w_u"
      ],
      "execution_count": null,
      "outputs": []
    },
    {
      "cell_type": "markdown",
      "metadata": {
        "id": "eOnl39ac6OCo"
      },
      "source": [
        "## train-test split"
      ]
    },
    {
      "cell_type": "code",
      "metadata": {
        "id": "bzO4NAfr6ZWz"
      },
      "source": [
        "x_train, x_test, y_train, y_test = train_test_split(x_ada_norm,y_ada, test_size=0.3, random_state=42);"
      ],
      "execution_count": null,
      "outputs": []
    },
    {
      "cell_type": "markdown",
      "metadata": {
        "id": "G4E8CofV6T1U"
      },
      "source": [
        "## RandomForestClassifier model "
      ]
    },
    {
      "cell_type": "code",
      "metadata": {
        "id": "KWy2yZzYNQJ0",
        "colab": {
          "base_uri": "https://localhost:8080/"
        },
        "outputId": "62996e5e-7754-4853-adc7-ce83c7675c2a"
      },
      "source": [
        "dt = RandomForestClassifier(random_state=42, verbose=2, class_weight='balanced_subsample',n_estimators=100,criterion='gini')\n",
        "dt.fit(x_train,y_train)\n",
        "preddt = dt.predict(x_test)\n"
      ],
      "execution_count": null,
      "outputs": [
        {
          "output_type": "stream",
          "text": [
            "building tree 1 of 100\n"
          ],
          "name": "stdout"
        },
        {
          "output_type": "stream",
          "text": [
            "[Parallel(n_jobs=1)]: Using backend SequentialBackend with 1 concurrent workers.\n",
            "[Parallel(n_jobs=1)]: Done   1 out of   1 | elapsed:    0.3s remaining:    0.0s\n"
          ],
          "name": "stderr"
        },
        {
          "output_type": "stream",
          "text": [
            "building tree 2 of 100\n",
            "building tree 3 of 100\n",
            "building tree 4 of 100\n",
            "building tree 5 of 100\n",
            "building tree 6 of 100\n",
            "building tree 7 of 100\n",
            "building tree 8 of 100\n",
            "building tree 9 of 100\n",
            "building tree 10 of 100\n",
            "building tree 11 of 100\n",
            "building tree 12 of 100\n",
            "building tree 13 of 100\n",
            "building tree 14 of 100\n",
            "building tree 15 of 100\n",
            "building tree 16 of 100\n",
            "building tree 17 of 100\n",
            "building tree 18 of 100\n",
            "building tree 19 of 100\n",
            "building tree 20 of 100\n",
            "building tree 21 of 100\n",
            "building tree 22 of 100\n",
            "building tree 23 of 100\n",
            "building tree 24 of 100\n",
            "building tree 25 of 100\n",
            "building tree 26 of 100\n",
            "building tree 27 of 100\n",
            "building tree 28 of 100\n",
            "building tree 29 of 100\n",
            "building tree 30 of 100\n",
            "building tree 31 of 100\n",
            "building tree 32 of 100\n",
            "building tree 33 of 100\n",
            "building tree 34 of 100\n",
            "building tree 35 of 100\n",
            "building tree 36 of 100\n",
            "building tree 37 of 100\n",
            "building tree 38 of 100\n",
            "building tree 39 of 100\n",
            "building tree 40 of 100\n",
            "building tree 41 of 100\n",
            "building tree 42 of 100\n",
            "building tree 43 of 100\n",
            "building tree 44 of 100\n",
            "building tree 45 of 100\n",
            "building tree 46 of 100\n",
            "building tree 47 of 100\n",
            "building tree 48 of 100\n",
            "building tree 49 of 100\n",
            "building tree 50 of 100\n",
            "building tree 51 of 100\n",
            "building tree 52 of 100\n",
            "building tree 53 of 100\n",
            "building tree 54 of 100\n",
            "building tree 55 of 100\n",
            "building tree 56 of 100\n",
            "building tree 57 of 100\n",
            "building tree 58 of 100\n",
            "building tree 59 of 100\n",
            "building tree 60 of 100\n",
            "building tree 61 of 100\n",
            "building tree 62 of 100\n",
            "building tree 63 of 100\n",
            "building tree 64 of 100\n",
            "building tree 65 of 100\n",
            "building tree 66 of 100\n",
            "building tree 67 of 100\n",
            "building tree 68 of 100\n",
            "building tree 69 of 100\n",
            "building tree 70 of 100\n",
            "building tree 71 of 100\n",
            "building tree 72 of 100\n",
            "building tree 73 of 100\n",
            "building tree 74 of 100\n",
            "building tree 75 of 100\n",
            "building tree 76 of 100\n",
            "building tree 77 of 100\n",
            "building tree 78 of 100\n",
            "building tree 79 of 100\n",
            "building tree 80 of 100\n",
            "building tree 81 of 100\n",
            "building tree 82 of 100\n",
            "building tree 83 of 100\n",
            "building tree 84 of 100\n",
            "building tree 85 of 100\n",
            "building tree 86 of 100\n",
            "building tree 87 of 100\n",
            "building tree 88 of 100\n",
            "building tree 89 of 100\n",
            "building tree 90 of 100\n",
            "building tree 91 of 100\n",
            "building tree 92 of 100\n",
            "building tree 93 of 100\n",
            "building tree 94 of 100\n",
            "building tree 95 of 100\n",
            "building tree 96 of 100\n",
            "building tree 97 of 100\n",
            "building tree 98 of 100\n",
            "building tree 99 of 100\n",
            "building tree 100 of 100\n"
          ],
          "name": "stdout"
        },
        {
          "output_type": "stream",
          "text": [
            "[Parallel(n_jobs=1)]: Done 100 out of 100 | elapsed:   29.5s finished\n",
            "[Parallel(n_jobs=1)]: Using backend SequentialBackend with 1 concurrent workers.\n",
            "[Parallel(n_jobs=1)]: Done   1 out of   1 | elapsed:    0.0s remaining:    0.0s\n",
            "[Parallel(n_jobs=1)]: Done 100 out of 100 | elapsed:    0.5s finished\n"
          ],
          "name": "stderr"
        }
      ]
    },
    {
      "cell_type": "markdown",
      "metadata": {
        "id": "But1Tw7R6dud"
      },
      "source": [
        "## accuracy RF"
      ]
    },
    {
      "cell_type": "code",
      "metadata": {
        "id": "pBcOEGpqNQZg",
        "colab": {
          "base_uri": "https://localhost:8080/"
        },
        "outputId": "cfe6fcfd-7b32-4f34-db48-225b8b0a53da"
      },
      "source": [
        "score = round(accuracy_score(y_test,preddt)*100,2)\n",
        "print(\"Score:\",score)"
      ],
      "execution_count": null,
      "outputs": [
        {
          "output_type": "stream",
          "text": [
            "Score: 85.66\n"
          ],
          "name": "stdout"
        }
      ]
    },
    {
      "cell_type": "markdown",
      "metadata": {
        "id": "YVEwmDlP6gtu"
      },
      "source": [
        "## confusion matrix RF"
      ]
    },
    {
      "cell_type": "code",
      "metadata": {
        "colab": {
          "base_uri": "https://localhost:8080/"
        },
        "id": "PSkeumjJn0Lu",
        "outputId": "e4a9f39b-56f8-44ab-d7cc-78b93334a68f"
      },
      "source": [
        "print(\"Confusion Matrix for Decision Tree:\")\n",
        "print(confusion_matrix(y_test,preddt))\n",
        "cnf_matrix = confusion_matrix(y_test,preddt);\n",
        "labels = ['happiness', 'neutral', 'worry','sadness','surprised','anger'];\n",
        "cm1 = pd.DataFrame(cnf_matrix, index = labels, columns = labels)"
      ],
      "execution_count": null,
      "outputs": [
        {
          "output_type": "stream",
          "text": [
            "Confusion Matrix for Decision Tree:\n",
            "[[ 583   34    7   49   51    4]\n",
            " [  26  478    4   32   35   61]\n",
            " [   5    2  289  138   10    4]\n",
            " [  32   22   78 1514   61   38]\n",
            " [  76   44   28  144 1349   19]\n",
            " [   0    6    0    0    0 1819]]\n"
          ],
          "name": "stdout"
        }
      ]
    },
    {
      "cell_type": "markdown",
      "metadata": {
        "id": "hFoQ5lh36lby"
      },
      "source": [
        "## plot confusion matrix RF"
      ]
    },
    {
      "cell_type": "code",
      "metadata": {
        "colab": {
          "base_uri": "https://localhost:8080/",
          "height": 497
        },
        "id": "waueDEzEZYFZ",
        "outputId": "10771e05-bbb5-40df-9fa1-0b3736065351"
      },
      "source": [
        "plt.figure(figsize = (10, 8))\n",
        "sns.heatmap(cm1, annot = True, cbar = False, fmt = 'g')\n",
        "plt.ylabel('Actual values')\n",
        "plt.xlabel('Predicted values')\n",
        "plt.show()"
      ],
      "execution_count": null,
      "outputs": [
        {
          "output_type": "display_data",
          "data": {
            "image/png": "[encoded data removed]",
            "text/plain": [
              "<Figure size 720x576 with 1 Axes>"
            ]
          },
          "metadata": {
            "needs_background": "light"
          }
        }
      ]
    },
    {
      "cell_type": "markdown",
      "metadata": {
        "id": "2kkzgLmo6sxR"
      },
      "source": [
        "## evaluation metrices RF"
      ]
    },
    {
      "cell_type": "code",
      "metadata": {
        "id": "36v8gtkSNQbg",
        "colab": {
          "base_uri": "https://localhost:8080/"
        },
        "outputId": "6f41e57f-c2fc-4d23-8225-ca2b4e2ac8ab"
      },
      "source": [
        "print(\"Classification Report:\")\n",
        "print(classification_report(y_test,preddt))"
      ],
      "execution_count": null,
      "outputs": [
        {
          "output_type": "stream",
          "text": [
            "Classification Report:\n",
            "              precision    recall  f1-score   support\n",
            "\n",
            "           0       0.81      0.80      0.80       728\n",
            "           1       0.82      0.75      0.78       636\n",
            "           2       0.71      0.65      0.68       448\n",
            "           3       0.81      0.87      0.84      1745\n",
            "           4       0.90      0.81      0.85      1660\n",
            "           5       0.94      1.00      0.96      1825\n",
            "\n",
            "    accuracy                           0.86      7042\n",
            "   macro avg       0.83      0.81      0.82      7042\n",
            "weighted avg       0.86      0.86      0.85      7042\n",
            "\n"
          ],
          "name": "stdout"
        }
      ]
    },
    {
      "cell_type": "markdown",
      "metadata": {
        "id": "ts9npANK79ku"
      },
      "source": [
        "## SVM"
      ]
    },
    {
      "cell_type": "code",
      "metadata": {
        "id": "8srszA0cekCt"
      },
      "source": [
        "svc=SVC(C=100.0) \n",
        "# fit classifier to training set\n",
        "svc.fit(x_train,y_train)\n",
        "\n",
        "\n",
        "# make predictions on test set\n",
        "y_pred=svc.predict(x_test)"
      ],
      "execution_count": null,
      "outputs": []
    },
    {
      "cell_type": "markdown",
      "metadata": {
        "id": "sx7uDtug8FfH"
      },
      "source": [
        "## accuracy SVM"
      ]
    },
    {
      "cell_type": "code",
      "metadata": {
        "colab": {
          "base_uri": "https://localhost:8080/"
        },
        "id": "kY4Keltf8HZs",
        "outputId": "de29e799-8147-423b-ae8f-516c6a0127ca"
      },
      "source": [
        "score = round(accuracy_score(y_test,y_pred)*100,2)\n",
        "print(\"Score:\",score)"
      ],
      "execution_count": null,
      "outputs": [
        {
          "output_type": "stream",
          "text": [
            "Score: 86.75\n"
          ],
          "name": "stdout"
        }
      ]
    },
    {
      "cell_type": "markdown",
      "metadata": {
        "id": "79zpr1wv8KXY"
      },
      "source": [
        "## confusion matrix SVM"
      ]
    },
    {
      "cell_type": "code",
      "metadata": {
        "colab": {
          "base_uri": "https://localhost:8080/"
        },
        "id": "qLVIEG8g8RI7",
        "outputId": "59269955-c276-45a5-a852-56b989df99cb"
      },
      "source": [
        "print(\"Confusion Matrix for Decision Tree:\")\n",
        "print(confusion_matrix(y_test,y_pred))\n",
        "cnf_matrix = confusion_matrix(y_test,y_pred);\n",
        "labels = ['happiness', 'neutral', 'worry','sadness','surprised','anger'];\n",
        "cm1 = pd.DataFrame(cnf_matrix, index = labels, columns = labels)"
      ],
      "execution_count": null,
      "outputs": [
        {
          "output_type": "stream",
          "text": [
            "Confusion Matrix for Decision Tree:\n",
            "[[ 535   26    5   84   75    3]\n",
            " [  18  450    2   73   53   40]\n",
            " [   2    6  247  167   25    1]\n",
            " [  18   11   40 1604   53   19]\n",
            " [  56   27   16  105 1450    6]\n",
            " [   1    1    0    0    0 1823]]\n"
          ],
          "name": "stdout"
        }
      ]
    },
    {
      "cell_type": "markdown",
      "metadata": {
        "id": "VL_Jq8QB8VQ2"
      },
      "source": [
        "## plot confusion matrix SVM"
      ]
    },
    {
      "cell_type": "code",
      "metadata": {
        "colab": {
          "base_uri": "https://localhost:8080/",
          "height": 497
        },
        "id": "PeW2QezS8XZB",
        "outputId": "dd3fbd22-dd53-4cda-dcdc-cd61f1924498"
      },
      "source": [
        "plt.figure(figsize = (10, 8))\n",
        "sns.heatmap(cm1, annot = True, cbar = False, fmt = 'g')\n",
        "plt.ylabel('Actual values')\n",
        "plt.xlabel('Predicted values')\n",
        "plt.show()"
      ],
      "execution_count": null,
      "outputs": [
        {
          "output_type": "display_data",
          "data": {
            "image/png": "[encoded data removed]",
            "text/plain": [
              "<Figure size 720x576 with 1 Axes>"
            ]
          },
          "metadata": {
            "needs_background": "light"
          }
        }
      ]
    },
    {
      "cell_type": "markdown",
      "metadata": {
        "id": "ySMV0yRs8dZh"
      },
      "source": [
        "## evaluation metrices SVM"
      ]
    },
    {
      "cell_type": "code",
      "metadata": {
        "colab": {
          "base_uri": "https://localhost:8080/"
        },
        "id": "qqeh3Gbr8hMU",
        "outputId": "704db040-e3af-4179-820d-2385a977b06c"
      },
      "source": [
        "print(\"Classification Report:\")\n",
        "print(classification_report(y_test,y_pred))"
      ],
      "execution_count": null,
      "outputs": [
        {
          "output_type": "stream",
          "text": [
            "Classification Report:\n",
            "              precision    recall  f1-score   support\n",
            "\n",
            "           0       0.85      0.73      0.79       728\n",
            "           1       0.86      0.71      0.78       636\n",
            "           2       0.80      0.55      0.65       448\n",
            "           3       0.79      0.92      0.85      1745\n",
            "           4       0.88      0.87      0.87      1660\n",
            "           5       0.96      1.00      0.98      1825\n",
            "\n",
            "    accuracy                           0.87      7042\n",
            "   macro avg       0.86      0.80      0.82      7042\n",
            "weighted avg       0.87      0.87      0.86      7042\n",
            "\n"
          ],
          "name": "stdout"
        }
      ]
    },
    {
      "cell_type": "markdown",
      "metadata": {
        "id": "19MZQQNY_Edm"
      },
      "source": [
        "## XGBC eXtreme Gradient Boosting (reduce overfitting)"
      ]
    },
    {
      "cell_type": "code",
      "metadata": {
        "id": "X2Y9Gb-D_Zbp"
      },
      "source": [
        "xgbc = XGBClassifier(max_depth=16, n_estimators=1000,nthread = 6)\n",
        "xgbc.fit(x_train,y_train)\n",
        "prediction_xgb = xgbc.predict(x_test)"
      ],
      "execution_count": null,
      "outputs": []
    },
    {
      "cell_type": "markdown",
      "metadata": {
        "id": "r1yRSiAK_hqX"
      },
      "source": [
        "accuracy XGBoost"
      ]
    },
    {
      "cell_type": "code",
      "metadata": {
        "id": "fN7gCQtu_kFs"
      },
      "source": [
        "score = round(accuracy_score(y_test,prediction_xgb)*100,2)\n",
        "print(\"Score:\",score)"
      ],
      "execution_count": null,
      "outputs": []
    },
    {
      "cell_type": "markdown",
      "metadata": {
        "id": "Zmje-ARO_tUN"
      },
      "source": [
        "## consfusion matrix XGBoost"
      ]
    },
    {
      "cell_type": "code",
      "metadata": {
        "id": "BHmD6dzN_tyF"
      },
      "source": [
        "print(\"Confusion Matrix for Decision Tree:\")\n",
        "print(confusion_matrix(y_test,prediction_xgb))\n",
        "cnf_matrix = confusion_matrix(y_test,prediction_xgb);\n",
        "labels = ['happiness', 'neutral', 'worry','sadness','surprised','anger'];\n",
        "cm1 = pd.DataFrame(cnf_matrix, index = labels, columns = labels)"
      ],
      "execution_count": null,
      "outputs": []
    },
    {
      "cell_type": "markdown",
      "metadata": {
        "id": "p2bvwJBT_uOc"
      },
      "source": [
        "## plot confusion matrix XGBoost"
      ]
    },
    {
      "cell_type": "code",
      "metadata": {
        "id": "TVzlkdiQ_umd"
      },
      "source": [
        "plt.figure(figsize = (10, 8))\n",
        "sns.heatmap(cm1, annot = True, cbar = False, fmt = 'g')\n",
        "plt.ylabel('Actual values')\n",
        "plt.xlabel('Predicted values')\n",
        "plt.show()"
      ],
      "execution_count": null,
      "outputs": []
    },
    {
      "cell_type": "markdown",
      "metadata": {
        "id": "s13sG1XMACd_"
      },
      "source": [
        "## evaluation metrics XGBoost\n"
      ]
    },
    {
      "cell_type": "code",
      "metadata": {
        "id": "ZFFBf1U5ACod"
      },
      "source": [
        "print(\"Classification Report:\")\n",
        "print(classification_report(y_test,prediction_xgb))"
      ],
      "execution_count": null,
      "outputs": []
    },
    {
      "cell_type": "markdown",
      "metadata": {
        "id": "FqDl1xHHpuvS"
      },
      "source": [
        "## logistic Regression Classifier"
      ]
    },
    {
      "cell_type": "code",
      "metadata": {
        "id": "16pjI5tPkHRw"
      },
      "source": [
        "from sklearn.linear_model import LogisticRegression"
      ],
      "execution_count": null,
      "outputs": []
    },
    {
      "cell_type": "code",
      "metadata": {
        "id": "liDC5xTFkHfm"
      },
      "source": [
        "logreg = LogisticRegression(solver='liblinear', random_state=0)"
      ],
      "execution_count": null,
      "outputs": []
    },
    {
      "cell_type": "code",
      "metadata": {
        "id": "PjiHskHwkHnm"
      },
      "source": [
        "logreg.fit(x_train, y_train)\n",
        "y_pred_test = logreg.predict(x_test)"
      ],
      "execution_count": null,
      "outputs": []
    },
    {
      "cell_type": "code",
      "metadata": {
        "id": "xHwl7HZ1k2mi"
      },
      "source": [
        "score = round(accuracy_score(y_test,y_pred_test)*100,2)\n",
        "print(\"Score:\",score)"
      ],
      "execution_count": null,
      "outputs": []
    },
    {
      "cell_type": "code",
      "metadata": {
        "id": "W-nM0sRTouyX"
      },
      "source": [
        "print(\"Confusion Matrix for Decision Tree:\")\n",
        "print(confusion_matrix(y_test,y_pred_test))\n",
        "cnf_matrix = confusion_matrix(y_test,y_pred_test);\n",
        "labels = ['happiness', 'neutral', 'worry','sadness','surprised','anger'];\n",
        "cm1 = pd.DataFrame(cnf_matrix, index = labels, columns = labels)"
      ],
      "execution_count": null,
      "outputs": []
    },
    {
      "cell_type": "code",
      "metadata": {
        "id": "iCwR9ff8VIKT"
      },
      "source": [
        "plt.figure(figsize = (10, 8))\n",
        "sns.heatmap(cm1, annot = True, cbar = False, fmt = 'g')\n",
        "plt.ylabel('Actual values')\n",
        "plt.xlabel('Predicted values')\n",
        "plt.show()"
      ],
      "execution_count": null,
      "outputs": []
    },
    {
      "cell_type": "code",
      "metadata": {
        "id": "tS2gFn_qpTJR"
      },
      "source": [
        "print(\"Classification Report:\")\n",
        "print(classification_report(y_test,y_pred_test))"
      ],
      "execution_count": null,
      "outputs": []
    },
    {
      "cell_type": "markdown",
      "metadata": {
        "id": "ZkzpoZ5iP3MK"
      },
      "source": [
        "## sgd classifier"
      ]
    },
    {
      "cell_type": "code",
      "metadata": {
        "id": "sCpyKO1Xqo7_"
      },
      "source": [
        "from sklearn.linear_model import SGDClassifier\n",
        "model = SGDClassifier(verbose = 2, random_state = 42)"
      ],
      "execution_count": null,
      "outputs": []
    },
    {
      "cell_type": "code",
      "metadata": {
        "id": "-53jIuufrVp1"
      },
      "source": [
        "model.fit(x_train, y_train)"
      ],
      "execution_count": null,
      "outputs": []
    },
    {
      "cell_type": "code",
      "metadata": {
        "id": "hcNekUWorV2D"
      },
      "source": [
        "y_pred_sgd = model.predict(x_test)"
      ],
      "execution_count": null,
      "outputs": []
    },
    {
      "cell_type": "code",
      "metadata": {
        "id": "UtkeFJk7rV-S"
      },
      "source": [
        "score = round(accuracy_score(y_test,y_pred_sgd)*100,2)\n",
        "print(\"Score:\",score)"
      ],
      "execution_count": null,
      "outputs": []
    },
    {
      "cell_type": "code",
      "metadata": {
        "id": "0IUx9MyNP9Oa"
      },
      "source": [
        "print(\"Confusion Matrix for Decision Tree:\")\n",
        "print(confusion_matrix(y_test,y_pred_sgd))\n",
        "cnf_matrix = confusion_matrix(y_test,y_pred_sgd);\n",
        "labels = ['happiness', 'neutral', 'worry','sadness','surprised','anger'];\n",
        "cm1 = pd.DataFrame(cnf_matrix, index = labels, columns = labels)"
      ],
      "execution_count": null,
      "outputs": []
    },
    {
      "cell_type": "code",
      "metadata": {
        "id": "RVKyCjJZP9aI"
      },
      "source": [
        "plt.figure(figsize = (10, 8))\n",
        "sns.heatmap(cm1, annot = True, cbar = False, fmt = 'g')\n",
        "plt.ylabel('Actual values')\n",
        "plt.xlabel('Predicted values')\n",
        "plt.show()"
      ],
      "execution_count": null,
      "outputs": []
    },
    {
      "cell_type": "code",
      "metadata": {
        "id": "7TDUnyz_VOmL"
      },
      "source": [
        "print(\"Classification Report:\")\n",
        "print(classification_report(y_test,y_pred_sgd))"
      ],
      "execution_count": null,
      "outputs": []
    },
    {
      "cell_type": "markdown",
      "metadata": {
        "id": "k8VXR3V8VUrU"
      },
      "source": [
        "## Naive Bayes(Bernouli and multinomial)"
      ]
    },
    {
      "cell_type": "code",
      "metadata": {
        "id": "judMggT4svXw"
      },
      "source": [
        "from sklearn.naive_bayes import GaussianNB, MultinomialNB, BernoulliNB"
      ],
      "execution_count": null,
      "outputs": []
    },
    {
      "cell_type": "code",
      "metadata": {
        "id": "e0412Olbsvf1"
      },
      "source": [
        "MNB = MultinomialNB()\n",
        "BNB = BernoulliNB()"
      ],
      "execution_count": null,
      "outputs": []
    },
    {
      "cell_type": "code",
      "metadata": {
        "id": "BF5yqdQCsvj5"
      },
      "source": [
        "BNB.fit(x_train, y_train)\n",
        "y2_BNB_model = BNB.predict(x_test)"
      ],
      "execution_count": null,
      "outputs": []
    },
    {
      "cell_type": "code",
      "metadata": {
        "id": "7ke8A6ursvnW"
      },
      "source": [
        "score = round(accuracy_score(y_test,y2_BNB_model)*100,2)\n",
        "print(\"Score:\",score)"
      ],
      "execution_count": null,
      "outputs": []
    },
    {
      "cell_type": "code",
      "metadata": {
        "id": "C52SrNzmVm3b"
      },
      "source": [
        "print(\"Confusion Matrix for Decision Tree:\")\n",
        "print(confusion_matrix(y_test,y2_BNB_model))\n",
        "cnf_matrix = confusion_matrix(y_test,y2_BNB_model);\n",
        "labels = ['happiness', 'neutral', 'worry','sadness','surprised','anger'];\n",
        "cm1 = pd.DataFrame(cnf_matrix, index = labels, columns = labels)"
      ],
      "execution_count": null,
      "outputs": []
    },
    {
      "cell_type": "code",
      "metadata": {
        "id": "ALQjaBWlVnBK"
      },
      "source": [
        "plt.figure(figsize = (10, 8))\n",
        "sns.heatmap(cm1, annot = True, cbar = False, fmt = 'g')\n",
        "plt.ylabel('Actual values')\n",
        "plt.xlabel('Predicted values')\n",
        "plt.show()"
      ],
      "execution_count": null,
      "outputs": []
    },
    {
      "cell_type": "code",
      "metadata": {
        "id": "XZ_xPz37VnI6"
      },
      "source": [
        "print(\"Classification Report:\")\n",
        "print(classification_report(y_test,y2_BNB_model))"
      ],
      "execution_count": null,
      "outputs": []
    },
    {
      "cell_type": "markdown",
      "metadata": {
        "id": "DCE7tTKHVhvf"
      },
      "source": [
        "## Linear and Non linear SVC"
      ]
    },
    {
      "cell_type": "code",
      "metadata": {
        "id": "YbDJ-3Dr566l"
      },
      "source": [
        "from sklearn.svm import LinearSVC, NuSVC\n"
      ],
      "execution_count": null,
      "outputs": []
    },
    {
      "cell_type": "code",
      "metadata": {
        "id": "Po9lMhr356-g"
      },
      "source": [
        "\n",
        "LSVC = LinearSVC()\n",
        "NSVC = NuSVC(kernel='rbf',nu=0.01,verbose = 2)\n"
      ],
      "execution_count": null,
      "outputs": []
    },
    {
      "cell_type": "code",
      "metadata": {
        "id": "zbwCYlZv57CC"
      },
      "source": [
        "LSVC.fit(x_train,y_train)\n",
        "y2_LSVC_model = LSVC.predict(x_test)"
      ],
      "execution_count": null,
      "outputs": []
    },
    {
      "cell_type": "code",
      "metadata": {
        "id": "qEXvx3cV57Fa"
      },
      "source": [
        "score = round(accuracy_score(y_test,y2_LSVC_model)*100,2)\n",
        "print(\"Score:\",score)"
      ],
      "execution_count": null,
      "outputs": []
    },
    {
      "cell_type": "code",
      "metadata": {
        "id": "Odkgh3TbZaFW"
      },
      "source": [
        "print(\"Confusion Matrix for Decision Tree:\")\n",
        "print(confusion_matrix(y_test,y2_LSVC_model))\n",
        "cnf_matrix = confusion_matrix(y_test,y2_LSVC_model);\n",
        "labels = ['happiness', 'neutral', 'worry','sadness','surprised','anger'];\n",
        "cm1 = pd.DataFrame(cnf_matrix, index = labels, columns = labels)"
      ],
      "execution_count": null,
      "outputs": []
    },
    {
      "cell_type": "code",
      "metadata": {
        "id": "h1rBV8jeZaQU"
      },
      "source": [
        "plt.figure(figsize = (10, 8))\n",
        "sns.heatmap(cm1, annot = True, cbar = False, fmt = 'g')\n",
        "plt.ylabel('Actual values')\n",
        "plt.xlabel('Predicted values')\n",
        "plt.show()"
      ],
      "execution_count": null,
      "outputs": []
    },
    {
      "cell_type": "code",
      "metadata": {
        "id": "hT78YPZRZaWk"
      },
      "source": [
        "print(\"Classification Report:\")\n",
        "print(classification_report(y_test,y2_LSVC_model))"
      ],
      "execution_count": null,
      "outputs": []
    },
    {
      "cell_type": "code",
      "metadata": {
        "id": "VQ9zN09WFj6G"
      },
      "source": [
        "NSVC.fit(x_train,y_train)\n",
        "y2_NSVC_model = NSVC.predict(x_test)"
      ],
      "execution_count": null,
      "outputs": []
    },
    {
      "cell_type": "code",
      "metadata": {
        "id": "mMyxlOuG57LY"
      },
      "source": [
        "score = round(accuracy_score(y_test,y2_NSVC_model)*100,2)\n",
        "print(\"Score:\",score)"
      ],
      "execution_count": null,
      "outputs": []
    },
    {
      "cell_type": "code",
      "metadata": {
        "id": "A_h4GaslVoSZ"
      },
      "source": [
        "print(\"Confusion Matrix for Decision Tree:\")\n",
        "print(confusion_matrix(y_test,y2_NSVC_model))\n",
        "cnf_matrix = confusion_matrix(y_test,y2_NSVC_model);\n",
        "labels = ['happiness', 'neutral', 'worry','sadness','surprised','anger'];\n",
        "cm1 = pd.DataFrame(cnf_matrix, index = labels, columns = labels)"
      ],
      "execution_count": null,
      "outputs": []
    },
    {
      "cell_type": "code",
      "metadata": {
        "id": "c6tZ_1XWVoZC"
      },
      "source": [
        "plt.figure(figsize = (10, 8))\n",
        "sns.heatmap(cm1, annot = True, cbar = False, fmt = 'g')\n",
        "plt.ylabel('Actual values')\n",
        "plt.xlabel('Predicted values')\n",
        "plt.show()"
      ],
      "execution_count": null,
      "outputs": []
    },
    {
      "cell_type": "code",
      "metadata": {
        "id": "gXAAHpB_Vofa"
      },
      "source": [
        "print(\"Classification Report:\")\n",
        "print(classification_report(y_test,y2_NSVC_model))"
      ],
      "execution_count": null,
      "outputs": []
    },
    {
      "cell_type": "markdown",
      "metadata": {
        "id": "0iVGHI8Tl0iz"
      },
      "source": [
        "## end of dataset 1  highest accuracy svm and non linear svm\n",
        "\n"
      ]
    }
  ]
}